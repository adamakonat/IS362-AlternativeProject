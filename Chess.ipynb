{
 "cells": [
  {
   "cell_type": "markdown",
   "source": [
    "# Project - Read Chess Tournament Cross Table\n",
    "### In this project, you’re given a text file with chess tournament results where the information has some structure.\n",
    "### Your job is to create a Jupyter Notebook that generates a .CSV file with the following information for all of the chess\n",
    "### players:\n",
    "### Player’s Name, Player’s State, Total Number of Points, Player’s Pre-Rating, and Average Pre Tournament Chess Rating of Opponents"
   ],
   "metadata": {
    "collapsed": false,
    "pycharm": {
     "name": "#%% md\n"
    }
   }
  },
  {
   "cell_type": "code",
   "execution_count": 1024,
   "outputs": [],
   "source": [
    "import pandas as pd\n",
    "import re\n",
    "import sys\n",
    "import numpy as np"
   ],
   "metadata": {
    "collapsed": false,
    "pycharm": {
     "name": "#%%\n"
    }
   }
  },
  {
   "cell_type": "code",
   "execution_count": 1025,
   "outputs": [],
   "source": [
    "textfile = open('tournamentinfo.txt')"
   ],
   "metadata": {
    "collapsed": false,
    "pycharm": {
     "name": "#%%\n"
    }
   }
  },
  {
   "cell_type": "markdown",
   "source": [
    "### View Tournament info"
   ],
   "metadata": {
    "collapsed": false,
    "pycharm": {
     "name": "#%% md\n"
    }
   }
  },
  {
   "cell_type": "code",
   "execution_count": 1026,
   "outputs": [],
   "source": [
    "text_table = [line.strip() for line in textfile.readlines()]"
   ],
   "metadata": {
    "collapsed": false,
    "pycharm": {
     "name": "#%%\n"
    }
   }
  },
  {
   "cell_type": "code",
   "execution_count": 1027,
   "outputs": [
    {
     "data": {
      "text/plain": "['-----------------------------------------------------------------------------------------',\n 'Pair | Player Name                     |Total|Round|Round|Round|Round|Round|Round|Round|',\n 'Num  | USCF ID / Rtg (Pre->Post)       | Pts |  1  |  2  |  3  |  4  |  5  |  6  |  7  |',\n '-----------------------------------------------------------------------------------------',\n '1 | GARY HUA                        |6.0  |W  39|W  21|W  18|W  14|W   7|D  12|D   4|',\n 'ON | 15445895 / R: 1794   ->1817     |N:2  |W    |B    |W    |B    |W    |B    |W    |',\n '-----------------------------------------------------------------------------------------',\n '2 | DAKSHESH DARURI                 |6.0  |W  63|W  58|L   4|W  17|W  16|W  20|W   7|',\n 'MI | 14598900 / R: 1553   ->1663     |N:2  |B    |W    |B    |W    |B    |W    |B    |',\n '-----------------------------------------------------------------------------------------',\n '3 | ADITYA BAJAJ                    |6.0  |L   8|W  61|W  25|W  21|W  11|W  13|W  12|',\n 'MI | 14959604 / R: 1384   ->1640     |N:2  |W    |B    |W    |B    |W    |B    |W    |',\n '-----------------------------------------------------------------------------------------',\n '4 | PATRICK H SCHILLING             |5.5  |W  23|D  28|W   2|W  26|D   5|W  19|D   1|',\n 'MI | 12616049 / R: 1716   ->1744     |N:2  |W    |B    |W    |B    |W    |B    |B    |',\n '-----------------------------------------------------------------------------------------',\n '5 | HANSHI ZUO                      |5.5  |W  45|W  37|D  12|D  13|D   4|W  14|W  17|',\n 'MI | 14601533 / R: 1655   ->1690     |N:2  |B    |W    |B    |W    |B    |W    |B    |',\n '-----------------------------------------------------------------------------------------',\n '6 | HANSEN SONG                     |5.0  |W  34|D  29|L  11|W  35|D  10|W  27|W  21|',\n 'OH | 15055204 / R: 1686   ->1687     |N:3  |W    |B    |W    |B    |B    |W    |B    |',\n '-----------------------------------------------------------------------------------------',\n '7 | GARY DEE SWATHELL               |5.0  |W  57|W  46|W  13|W  11|L   1|W   9|L   2|',\n 'MI | 11146376 / R: 1649   ->1673     |N:3  |W    |B    |W    |B    |B    |W    |W    |',\n '-----------------------------------------------------------------------------------------',\n '8 | EZEKIEL HOUGHTON                |5.0  |W   3|W  32|L  14|L   9|W  47|W  28|W  19|',\n 'MI | 15142253 / R: 1641P17->1657P24  |N:3  |B    |W    |B    |W    |B    |W    |W    |',\n '-----------------------------------------------------------------------------------------',\n '9 | STEFANO LEE                     |5.0  |W  25|L  18|W  59|W   8|W  26|L   7|W  20|',\n 'ON | 14954524 / R: 1411   ->1564     |N:2  |W    |B    |W    |B    |W    |B    |B    |',\n '-----------------------------------------------------------------------------------------',\n '10 | ANVIT RAO                       |5.0  |D  16|L  19|W  55|W  31|D   6|W  25|W  18|',\n 'MI | 14150362 / R: 1365   ->1544     |N:3  |W    |W    |B    |B    |W    |B    |W    |',\n '-----------------------------------------------------------------------------------------',\n '11 | CAMERON WILLIAM MC LEMAN        |4.5  |D  38|W  56|W   6|L   7|L   3|W  34|W  26|',\n 'MI | 12581589 / R: 1712   ->1696     |N:3  |B    |W    |B    |W    |B    |W    |B    |',\n '-----------------------------------------------------------------------------------------',\n '12 | KENNETH J TACK                  |4.5  |W  42|W  33|D   5|W  38|H    |D   1|L   3|',\n 'MI | 12681257 / R: 1663   ->1670     |N:3  |W    |B    |W    |B    |     |W    |B    |',\n '-----------------------------------------------------------------------------------------',\n '13 | TORRANCE HENRY JR               |4.5  |W  36|W  27|L   7|D   5|W  33|L   3|W  32|',\n 'MI | 15082995 / R: 1666   ->1662     |N:3  |B    |W    |B    |B    |W    |W    |B    |',\n '-----------------------------------------------------------------------------------------',\n '14 | BRADLEY SHAW                    |4.5  |W  54|W  44|W   8|L   1|D  27|L   5|W  31|',\n 'MI | 10131499 / R: 1610   ->1618     |N:3  |W    |B    |W    |W    |B    |B    |W    |',\n '-----------------------------------------------------------------------------------------',\n '15 | ZACHARY JAMES HOUGHTON          |4.5  |D  19|L  16|W  30|L  22|W  54|W  33|W  38|',\n 'MI | 15619130 / R: 1220P13->1416P20  |N:3  |B    |B    |W    |W    |B    |B    |W    |',\n '-----------------------------------------------------------------------------------------',\n '16 | MIKE NIKITIN                    |4.0  |D  10|W  15|H    |W  39|L   2|W  36|U    |',\n 'MI | 10295068 / R: 1604   ->1613     |N:3  |B    |W    |     |B    |W    |B    |     |',\n '-----------------------------------------------------------------------------------------',\n '17 | RONALD GRZEGORCZYK              |4.0  |W  48|W  41|L  26|L   2|W  23|W  22|L   5|',\n 'MI | 10297702 / R: 1629   ->1610     |N:3  |W    |B    |W    |B    |W    |B    |W    |',\n '-----------------------------------------------------------------------------------------',\n '18 | DAVID SUNDEEN                   |4.0  |W  47|W   9|L   1|W  32|L  19|W  38|L  10|',\n 'MI | 11342094 / R: 1600   ->1600     |N:3  |B    |W    |B    |W    |B    |W    |B    |',\n '-----------------------------------------------------------------------------------------',\n '19 | DIPANKAR ROY                    |4.0  |D  15|W  10|W  52|D  28|W  18|L   4|L   8|',\n 'MI | 14862333 / R: 1564   ->1570     |N:3  |W    |B    |W    |B    |W    |W    |B    |',\n '-----------------------------------------------------------------------------------------',\n '20 | JASON ZHENG                     |4.0  |L  40|W  49|W  23|W  41|W  28|L   2|L   9|',\n 'MI | 14529060 / R: 1595   ->1569     |N:4  |W    |B    |W    |B    |W    |B    |W    |',\n '-----------------------------------------------------------------------------------------',\n '21 | DINH DANG BUI                   |4.0  |W  43|L   1|W  47|L   3|W  40|W  39|L   6|',\n 'ON | 15495066 / R: 1563P22->1562     |N:3  |B    |W    |B    |W    |W    |B    |W    |',\n '-----------------------------------------------------------------------------------------',\n '22 | EUGENE L MCCLURE                |4.0  |W  64|D  52|L  28|W  15|H    |L  17|W  40|',\n 'MI | 12405534 / R: 1555   ->1529     |N:4  |W    |B    |W    |B    |     |W    |B    |',\n '-----------------------------------------------------------------------------------------',\n '23 | ALAN BUI                        |4.0  |L   4|W  43|L  20|W  58|L  17|W  37|W  46|',\n 'ON | 15030142 / R: 1363   ->1371     |     |B    |W    |B    |W    |B    |W    |B    |',\n '-----------------------------------------------------------------------------------------',\n '24 | MICHAEL R ALDRICH               |4.0  |L  28|L  47|W  43|L  25|W  60|W  44|W  39|',\n 'MI | 13469010 / R: 1229   ->1300     |N:4  |B    |W    |B    |B    |W    |W    |B    |',\n '-----------------------------------------------------------------------------------------',\n '25 | LOREN SCHWIEBERT                |3.5  |L   9|W  53|L   3|W  24|D  34|L  10|W  47|',\n 'MI | 12486656 / R: 1745   ->1681     |N:4  |B    |W    |B    |W    |B    |W    |B    |',\n '-----------------------------------------------------------------------------------------',\n '26 | MAX ZHU                         |3.5  |W  49|W  40|W  17|L   4|L   9|D  32|L  11|',\n 'ON | 15131520 / R: 1579   ->1564     |N:4  |B    |W    |B    |W    |B    |W    |W    |',\n '-----------------------------------------------------------------------------------------',\n '27 | GAURAV GIDWANI                  |3.5  |W  51|L  13|W  46|W  37|D  14|L   6|U    |',\n 'MI | 14476567 / R: 1552   ->1539     |N:4  |W    |B    |W    |B    |W    |B    |     |',\n '-----------------------------------------------------------------------------------------',\n '28 | SOFIA ADINA STANESCU-BELLU      |3.5  |W  24|D   4|W  22|D  19|L  20|L   8|D  36|',\n 'MI | 14882954 / R: 1507   ->1513     |N:3  |W    |W    |B    |W    |B    |B    |W    |',\n '-----------------------------------------------------------------------------------------',\n '29 | CHIEDOZIE OKORIE                |3.5  |W  50|D   6|L  38|L  34|W  52|W  48|U    |',\n 'MI | 15323285 / R: 1602P6 ->1508P12  |N:4  |B    |W    |B    |W    |W    |B    |     |',\n '-----------------------------------------------------------------------------------------',\n '30 | GEORGE AVERY JONES              |3.5  |L  52|D  64|L  15|W  55|L  31|W  61|W  50|',\n 'ON | 12577178 / R: 1522   ->1444     |     |W    |B    |B    |W    |W    |B    |B    |',\n '-----------------------------------------------------------------------------------------',\n '31 | RISHI SHETTY                    |3.5  |L  58|D  55|W  64|L  10|W  30|W  50|L  14|',\n 'MI | 15131618 / R: 1494   ->1444     |     |B    |W    |B    |W    |B    |W    |B    |',\n '-----------------------------------------------------------------------------------------',\n '32 | JOSHUA PHILIP MATHEWS           |3.5  |W  61|L   8|W  44|L  18|W  51|D  26|L  13|',\n 'ON | 14073750 / R: 1441   ->1433     |N:4  |W    |B    |W    |B    |W    |B    |W    |',\n '-----------------------------------------------------------------------------------------',\n '33 | JADE GE                         |3.5  |W  60|L  12|W  50|D  36|L  13|L  15|W  51|',\n 'MI | 14691842 / R: 1449   ->1421     |     |B    |W    |B    |W    |B    |W    |B    |',\n '-----------------------------------------------------------------------------------------',\n '34 | MICHAEL JEFFERY THOMAS          |3.5  |L   6|W  60|L  37|W  29|D  25|L  11|W  52|',\n 'MI | 15051807 / R: 1399   ->1400     |     |B    |W    |B    |B    |W    |B    |W    |',\n '-----------------------------------------------------------------------------------------',\n '35 | JOSHUA DAVID LEE                |3.5  |L  46|L  38|W  56|L   6|W  57|D  52|W  48|',\n 'MI | 14601397 / R: 1438   ->1392     |     |W    |W    |B    |W    |B    |B    |W    |',\n '-----------------------------------------------------------------------------------------',\n '36 | SIDDHARTH JHA                   |3.5  |L  13|W  57|W  51|D  33|H    |L  16|D  28|',\n 'MI | 14773163 / R: 1355   ->1367     |N:4  |W    |B    |W    |B    |     |W    |B    |',\n '-----------------------------------------------------------------------------------------',\n '37 | AMIYATOSH PWNANANDAM            |3.5  |B    |L   5|W  34|L  27|H    |L  23|W  61|',\n 'MI | 15489571 / R:  980P12->1077P17  |     |     |B    |W    |W    |     |B    |W    |',\n '-----------------------------------------------------------------------------------------',\n '38 | BRIAN LIU                       |3.0  |D  11|W  35|W  29|L  12|H    |L  18|L  15|',\n 'MI | 15108523 / R: 1423   ->1439     |N:4  |W    |B    |W    |W    |     |B    |B    |',\n '-----------------------------------------------------------------------------------------',\n '39 | JOEL R HENDON                   |3.0  |L   1|W  54|W  40|L  16|W  44|L  21|L  24|',\n 'MI | 12923035 / R: 1436P23->1413     |N:4  |B    |W    |B    |W    |B    |W    |W    |',\n '-----------------------------------------------------------------------------------------',\n '40 | FOREST ZHANG                    |3.0  |W  20|L  26|L  39|W  59|L  21|W  56|L  22|',\n 'MI | 14892710 / R: 1348   ->1346     |     |B    |B    |W    |W    |B    |W    |W    |',\n '-----------------------------------------------------------------------------------------',\n '41 | KYLE WILLIAM MURPHY             |3.0  |W  59|L  17|W  58|L  20|X    |U    |U    |',\n 'MI | 15761443 / R: 1403P5 ->1341P9   |     |B    |W    |B    |W    |     |     |     |',\n '-----------------------------------------------------------------------------------------',\n '42 | JARED GE                        |3.0  |L  12|L  50|L  57|D  60|D  61|W  64|W  56|',\n 'MI | 14462326 / R: 1332   ->1256     |     |B    |W    |B    |B    |W    |W    |B    |',\n '-----------------------------------------------------------------------------------------',\n '43 | ROBERT GLEN VASEY               |3.0  |L  21|L  23|L  24|W  63|W  59|L  46|W  55|',\n 'MI | 14101068 / R: 1283   ->1244     |     |W    |B    |W    |W    |B    |B    |W    |',\n '-----------------------------------------------------------------------------------------',\n '44 | JUSTIN D SCHILLING              |3.0  |B    |L  14|L  32|W  53|L  39|L  24|W  59|',\n 'MI | 15323504 / R: 1199   ->1199     |     |     |W    |B    |B    |W    |B    |W    |',\n '-----------------------------------------------------------------------------------------',\n '45 | DEREK YAN                       |3.0  |L   5|L  51|D  60|L  56|W  63|D  55|W  58|',\n 'MI | 15372807 / R: 1242   ->1191     |     |W    |B    |W    |B    |W    |B    |W    |',\n '-----------------------------------------------------------------------------------------',\n '46 | JACOB ALEXANDER LAVALLEY        |3.0  |W  35|L   7|L  27|L  50|W  64|W  43|L  23|',\n 'MI | 15490981 / R:  377P3 ->1076P10  |     |B    |W    |B    |W    |B    |W    |W    |',\n '-----------------------------------------------------------------------------------------',\n '47 | ERIC WRIGHT                     |2.5  |L  18|W  24|L  21|W  61|L   8|D  51|L  25|',\n 'MI | 12533115 / R: 1362   ->1341     |     |W    |B    |W    |B    |W    |B    |W    |',\n '-----------------------------------------------------------------------------------------',\n '48 | DANIEL KHAIN                    |2.5  |L  17|W  63|H    |D  52|H    |L  29|L  35|',\n 'MI | 14369165 / R: 1382   ->1335     |     |B    |W    |     |B    |     |W    |B    |',\n '-----------------------------------------------------------------------------------------',\n '49 | MICHAEL J MARTIN                |2.5  |L  26|L  20|D  63|D  64|W  58|H    |U    |',\n 'MI | 12531685 / R: 1291P12->1259P17  |     |W    |W    |B    |W    |B    |     |     |',\n '-----------------------------------------------------------------------------------------',\n '50 | SHIVAM JHA                      |2.5  |L  29|W  42|L  33|W  46|H    |L  31|L  30|',\n 'MI | 14773178 / R: 1056   ->1111     |     |W    |B    |W    |B    |     |B    |W    |',\n '-----------------------------------------------------------------------------------------',\n '51 | TEJAS AYYAGARI                  |2.5  |L  27|W  45|L  36|W  57|L  32|D  47|L  33|',\n 'MI | 15205474 / R: 1011   ->1097     |     |B    |W    |B    |W    |B    |W    |W    |',\n '-----------------------------------------------------------------------------------------',\n '52 | ETHAN GUO                       |2.5  |W  30|D  22|L  19|D  48|L  29|D  35|L  34|',\n 'MI | 14918803 / R:  935   ->1092     |N:4  |B    |W    |B    |W    |B    |W    |B    |',\n '-----------------------------------------------------------------------------------------',\n '53 | JOSE C YBARRA                   |2.0  |H    |L  25|H    |L  44|U    |W  57|U    |',\n 'MI | 12578849 / R: 1393   ->1359     |     |     |B    |     |W    |     |W    |     |',\n '-----------------------------------------------------------------------------------------',\n '54 | LARRY HODGE                     |2.0  |L  14|L  39|L  61|B    |L  15|L  59|W  64|',\n 'MI | 12836773 / R: 1270   ->1200     |     |B    |B    |W    |     |W    |B    |W    |',\n '-----------------------------------------------------------------------------------------',\n '55 | ALEX KONG                       |2.0  |L  62|D  31|L  10|L  30|B    |D  45|L  43|',\n 'MI | 15412571 / R: 1186   ->1163     |     |W    |B    |W    |B    |     |W    |B    |',\n '-----------------------------------------------------------------------------------------',\n '56 | MARISA RICCI                    |2.0  |H    |L  11|L  35|W  45|H    |L  40|L  42|',\n 'MI | 14679887 / R: 1153   ->1140     |     |     |B    |W    |W    |     |B    |W    |',\n '-----------------------------------------------------------------------------------------',\n '57 | MICHAEL LU                      |2.0  |L   7|L  36|W  42|L  51|L  35|L  53|B    |',\n 'MI | 15113330 / R: 1092   ->1079     |     |B    |W    |W    |B    |W    |B    |     |',\n '-----------------------------------------------------------------------------------------',\n '58 | VIRAJ MOHILE                    |2.0  |W  31|L   2|L  41|L  23|L  49|B    |L  45|',\n 'MI | 14700365 / R:  917   -> 941     |     |W    |B    |W    |B    |W    |     |B    |',\n '-----------------------------------------------------------------------------------------',\n '59 | SEAN M MC CORMICK               |2.0  |L  41|B    |L   9|L  40|L  43|W  54|L  44|',\n 'MI | 12841036 / R:  853   -> 878     |     |W    |     |B    |B    |W    |W    |B    |',\n '-----------------------------------------------------------------------------------------',\n '60 | JULIA SHEN                      |1.5  |L  33|L  34|D  45|D  42|L  24|H    |U    |',\n 'MI | 14579262 / R:  967   -> 984     |     |W    |B    |B    |W    |B    |     |     |',\n '-----------------------------------------------------------------------------------------',\n '61 | JEZZEL FARKAS                   |1.5  |L  32|L   3|W  54|L  47|D  42|L  30|L  37|',\n 'ON | 15771592 / R:  955P11-> 979P18  |     |B    |W    |B    |W    |B    |W    |B    |',\n '-----------------------------------------------------------------------------------------',\n '62 | ASHWIN BALAJI                   |1.0  |W  55|U    |U    |U    |U    |U    |U    |',\n 'MI | 15219542 / R: 1530   ->1535     |     |B    |     |     |     |     |     |     |',\n '-----------------------------------------------------------------------------------------',\n '63 | THOMAS JOSEPH HOSMER            |1.0  |L   2|L  48|D  49|L  43|L  45|H    |U    |',\n 'MI | 15057092 / R: 1175   ->1125     |     |W    |B    |W    |B    |B    |     |     |',\n '-----------------------------------------------------------------------------------------',\n '64 | BEN LI                          |1.0  |L  22|D  30|L  31|D  49|L  46|L  42|L  54|',\n 'MI | 15006561 / R: 1163   ->1112     |     |B    |W    |W    |B    |W    |B    |B    |',\n '-----------------------------------------------------------------------------------------']"
     },
     "execution_count": 1027,
     "metadata": {},
     "output_type": "execute_result"
    }
   ],
   "source": [
    "text_table"
   ],
   "metadata": {
    "collapsed": false,
    "pycharm": {
     "name": "#%%\n"
    }
   }
  },
  {
   "cell_type": "markdown",
   "source": [
    "#### The data is sucessfully implemented into the notebook! However, it can be cleaned for easier understanding and to caluculate total points and Player’s Pre-Rating, and Average Pre Tournament Chess Rating of Opponents."
   ],
   "metadata": {
    "collapsed": false,
    "pycharm": {
     "name": "#%% md\n"
    }
   }
  },
  {
   "cell_type": "code",
   "execution_count": 1028,
   "outputs": [],
   "source": [
    "player_state = []\n",
    "player_number = []\n",
    "id_data = []\n",
    "name_data = []"
   ],
   "metadata": {
    "collapsed": false,
    "pycharm": {
     "name": "#%%\n"
    }
   }
  },
  {
   "cell_type": "code",
   "execution_count": 1029,
   "outputs": [],
   "source": [
    "#Use regex\n",
    "state = '([A-Z]{2})'\n",
    "number = '([0-9]{1})'\n",
    "dash = '^-'"
   ],
   "metadata": {
    "collapsed": false,
    "pycharm": {
     "name": "#%%\n"
    }
   }
  },
  {
   "cell_type": "markdown",
   "source": [
    "#### The original textfile is formatted with various dashes and some data cells are over-filled. Before we can answer thus projects question s we will need to re-format the chess data.\n"
   ],
   "metadata": {
    "collapsed": false,
    "pycharm": {
     "name": "#%% md\n"
    }
   }
  },
  {
   "cell_type": "code",
   "execution_count": 1030,
   "outputs": [],
   "source": [
    "# Let's start by\n",
    "for line in text_table:\n",
    "    if not re.search(dash, line):\n",
    "        if re.search(state, line) and not re.search(dash, line):\n",
    "            text =  line.replace('/', '').replace('-','').replace('>','').replace(':','')\n",
    "            state_num = text.strip().replace('|', ',')[:3].strip(',')\n",
    "            if re.search(state, state_num):\n",
    "                player_state.append(state_num)\n",
    "                id_data.append(text[5:].strip('').replace('|',','))\n",
    "            elif re.search(number, state_num):\n",
    "                name_data.append(text[4:].strip().replace('|',','))\n",
    "                player_number.append(state_num)"
   ],
   "metadata": {
    "collapsed": false,
    "pycharm": {
     "name": "#%%\n"
    }
   }
  },
  {
   "cell_type": "code",
   "execution_count": 1031,
   "outputs": [],
   "source": [
    "player_names = []\n",
    "rounds = []\n",
    "uscf_id = []\n",
    "ratings = []\n",
    "total_points = []"
   ],
   "metadata": {
    "collapsed": false,
    "pycharm": {
     "name": "#%%\n"
    }
   }
  },
  {
   "cell_type": "code",
   "execution_count": 1032,
   "outputs": [],
   "source": [
    "for item in name_data:\n",
    "    total_points.append(float(item[33:36]))\n",
    "    player_names.append(item[:28].split())\n",
    "    rounds.append(item[39:].replace(' ', '' ).strip(',').split(','))"
   ],
   "metadata": {
    "collapsed": false,
    "pycharm": {
     "name": "#%%\n"
    }
   }
  },
  {
   "cell_type": "markdown",
   "source": [
    "#### So far"
   ],
   "metadata": {
    "collapsed": false,
    "pycharm": {
     "name": "#%% md\n"
    }
   }
  },
  {
   "cell_type": "markdown",
   "source": [],
   "metadata": {
    "collapsed": false,
    "pycharm": {
     "name": "#%% md\n"
    }
   }
  },
  {
   "cell_type": "code",
   "execution_count": 1033,
   "outputs": [],
   "source": [
    "pd.options.display.max_rows = 70"
   ],
   "metadata": {
    "collapsed": false,
    "pycharm": {
     "name": "#%%\n"
    }
   }
  },
  {
   "cell_type": "code",
   "execution_count": 1034,
   "outputs": [],
   "source": [
    "chess_df = pd.DataFrame(rounds, columns = ['Round1','Round2','Round3','Round4','Round5','Round6','Round7'],\n",
    "                   index = [player for player in player_number])"
   ],
   "metadata": {
    "collapsed": false,
    "pycharm": {
     "name": "#%%\n"
    }
   }
  },
  {
   "cell_type": "code",
   "execution_count": 1035,
   "outputs": [],
   "source": [
    "for item in id_data:\n",
    "    uscf_id.append(item.replace('R', '').replace('P', ' ')[:8])\n",
    "    ratings.append(item.replace('R', '').replace('P', ' ')[11:16])"
   ],
   "metadata": {
    "collapsed": false,
    "pycharm": {
     "name": "#%%\n"
    }
   }
  },
  {
   "cell_type": "code",
   "execution_count": 1036,
   "outputs": [],
   "source": [
    "chess_df['Ratings'] = [rate for rate in ratings]\n",
    "chess_df['Total_Points'] = [n for n in total_points]\n",
    "chess_df['Player_ID'] = [n for n in player_number]\n",
    "chess_df['State'] = [state for state in player_state]\n",
    "chess_df['Player_Names'] = [player for player in player_names]"
   ],
   "metadata": {
    "collapsed": false,
    "pycharm": {
     "name": "#%%\n"
    }
   }
  },
  {
   "cell_type": "markdown",
   "source": [
    "#### Let's reformat the Round Columns by removing white space and building a list like collection for our tournament points."
   ],
   "metadata": {
    "collapsed": false,
    "pycharm": {
     "name": "#%% md\n"
    }
   }
  },
  {
   "cell_type": "code",
   "execution_count": 1037,
   "outputs": [],
   "source": [
    "#round 1\n",
    "chess_df['Round1'] = chess_df['Round1'].map(lambda x: x.lstrip('W')).map(lambda x: x.lstrip('U'))\n",
    "chess_df['Round1'] = chess_df['Round1'].map(lambda x: x.lstrip('D')).map(lambda x: x.lstrip('L'))\n",
    "chess_df['Round1'] = chess_df['Round1'].map(lambda x: x.lstrip('H')).map(lambda x: x.lstrip('B'))\n",
    "chess_df['Round1'] = chess_df['Round1'].map(lambda x: x.lstrip('X'))"
   ],
   "metadata": {
    "collapsed": false,
    "pycharm": {
     "name": "#%%\n"
    }
   }
  },
  {
   "cell_type": "code",
   "execution_count": 1038,
   "outputs": [],
   "source": [
    "#round 2\n",
    "chess_df['Round2'] = chess_df['Round2'].map(lambda x: x.lstrip('W')).map(lambda x: x.lstrip('U'))\n",
    "chess_df['Round2'] = chess_df['Round2'].map(lambda x: x.lstrip('D')).map(lambda x: x.lstrip('L'))\n",
    "chess_df['Round2'] = chess_df['Round2'].map(lambda x: x.lstrip('H')).map(lambda x: x.lstrip('B'))\n",
    "chess_df['Round2'] = chess_df['Round2'].map(lambda x: x.lstrip('X'))"
   ],
   "metadata": {
    "collapsed": false,
    "pycharm": {
     "name": "#%%\n"
    }
   }
  },
  {
   "cell_type": "code",
   "execution_count": 1039,
   "outputs": [],
   "source": [
    "#round 3\n",
    "chess_df['Round3'] = chess_df['Round3'].map(lambda x: x.lstrip('W')).map(lambda x: x.lstrip('U'))\n",
    "chess_df['Round3'] = chess_df['Round3'].map(lambda x: x.lstrip('D')).map(lambda x: x.lstrip('L'))\n",
    "chess_df['Round3'] = chess_df['Round3'].map(lambda x: x.lstrip('H')).map(lambda x: x.lstrip('B'))\n",
    "chess_df['Round3'] = chess_df['Round3'].map(lambda x: x.lstrip('X'))"
   ],
   "metadata": {
    "collapsed": false,
    "pycharm": {
     "name": "#%%\n"
    }
   }
  },
  {
   "cell_type": "code",
   "execution_count": 1040,
   "outputs": [],
   "source": [
    "#round 4\n",
    "chess_df['Round4'] = chess_df['Round4'].map(lambda x: x.lstrip('W')).map(lambda x: x.lstrip('U'))\n",
    "chess_df['Round4'] = chess_df['Round4'].map(lambda x: x.lstrip('D')).map(lambda x: x.lstrip('L'))\n",
    "chess_df['Round4'] = chess_df['Round4'].map(lambda x: x.lstrip('H')).map(lambda x: x.lstrip('B'))\n",
    "chess_df['Round4'] = chess_df['Round4'].map(lambda x: x.lstrip('X'))"
   ],
   "metadata": {
    "collapsed": false,
    "pycharm": {
     "name": "#%%\n"
    }
   }
  },
  {
   "cell_type": "code",
   "execution_count": 1041,
   "outputs": [],
   "source": [
    "#round 5\n",
    "chess_df['Round5'] = chess_df['Round5'].map(lambda x: x.lstrip('W')).map(lambda x: x.lstrip('U'))\n",
    "chess_df['Round5'] = chess_df['Round5'].map(lambda x: x.lstrip('D')).map(lambda x: x.lstrip('L'))\n",
    "chess_df['Round5'] = chess_df['Round5'].map(lambda x: x.lstrip('H')).map(lambda x: x.lstrip('B'))\n",
    "chess_df['Round5'] = chess_df['Round5'].map(lambda x: x.lstrip('X'))"
   ],
   "metadata": {
    "collapsed": false,
    "pycharm": {
     "name": "#%%\n"
    }
   }
  },
  {
   "cell_type": "code",
   "execution_count": 1042,
   "outputs": [],
   "source": [
    "#round 6\n",
    "chess_df['Round6'] = chess_df['Round6'].map(lambda x: x.lstrip('W')).map(lambda x: x.lstrip('U'))\n",
    "chess_df['Round6'] = chess_df['Round6'].map(lambda x: x.lstrip('D')).map(lambda x: x.lstrip('L'))\n",
    "chess_df['Round6'] = chess_df['Round6'].map(lambda x: x.lstrip('H')).map(lambda x: x.lstrip('B'))\n",
    "chess_df['Round6'] = chess_df['Round6'].map(lambda x: x.lstrip('X'))"
   ],
   "metadata": {
    "collapsed": false,
    "pycharm": {
     "name": "#%%\n"
    }
   }
  },
  {
   "cell_type": "code",
   "execution_count": 1043,
   "outputs": [],
   "source": [
    "#round 7\n",
    "chess_df['Round7'] = chess_df['Round7'].map(lambda x: x.lstrip('W')).map(lambda x: x.lstrip('U'))\n",
    "chess_df['Round7'] = chess_df['Round7'].map(lambda x: x.lstrip('D')).map(lambda x: x.lstrip('L'))\n",
    "chess_df['Round7'] = chess_df['Round7'].map(lambda x: x.lstrip('H')).map(lambda x: x.lstrip('B'))\n",
    "chess_df['Round7'] = chess_df['Round7'].map(lambda x: x.lstrip('X'))"
   ],
   "metadata": {
    "collapsed": false,
    "pycharm": {
     "name": "#%%\n"
    }
   }
  },
  {
   "cell_type": "markdown",
   "source": [
    "#### Continuing with cleaning the round columns, in the original dataset some rounds have a blank space we'll replace the blank with 0."
   ],
   "metadata": {
    "collapsed": false,
    "pycharm": {
     "name": "#%% md\n"
    }
   }
  },
  {
   "cell_type": "code",
   "execution_count": 1044,
   "outputs": [],
   "source": [
    "chess_df['Round1'].replace('', 0, inplace=True)\n",
    "chess_df['Round2'].replace('', 0, inplace=True)\n",
    "chess_df['Round3'].replace('', 0, inplace=True)\n",
    "chess_df['Round4'].replace('', 0, inplace=True)\n",
    "chess_df['Round5'].replace('', 0, inplace=True)\n",
    "chess_df['Round6'].replace('', 0, inplace=True)\n",
    "chess_df['Round7'].replace('', 0, inplace=True)"
   ],
   "metadata": {
    "collapsed": false,
    "pycharm": {
     "name": "#%%\n"
    }
   }
  },
  {
   "cell_type": "markdown",
   "source": [
    "####  Check the data formatting to check cleaning progress and note of any required changes"
   ],
   "metadata": {
    "collapsed": false,
    "pycharm": {
     "name": "#%% md\n"
    }
   }
  },
  {
   "cell_type": "code",
   "execution_count": 1045,
   "outputs": [
    {
     "data": {
      "text/plain": "    Round1 Round2 Round3 Round4 Round5 Round6 Round7 Ratings  Total_Points  \\\n1       39     21     18     14      7     12      4   1794            6.0   \n2       63     58      4     17     16     20      7   1553            6.0   \n3        8     61     25     21     11     13     12   1384            6.0   \n4       23     28      2     26      5     19      1   1716            5.5   \n5       45     37     12     13      4     14     17   1655            5.5   \n6       34     29     11     35     10     27     21   1686            5.0   \n7       57     46     13     11      1      9      2   1649            5.0   \n8        3     32     14      9     47     28     19   1641            5.0   \n9       25     18     59      8     26      7     20   1411            5.0   \n10      16     19     55     31      6     25     18   1365            5.0   \n11      38     56      6      7      3     34     26   1712            4.5   \n12      42     33      5     38      0      1      3   1663            4.5   \n13      36     27      7      5     33      3     32   1666            4.5   \n14      54     44      8      1     27      5     31   1610            4.5   \n15      19     16     30     22     54     33     38   1220            4.5   \n16      10     15      0     39      2     36      0   1604            4.0   \n17      48     41     26      2     23     22      5   1629            4.0   \n18      47      9      1     32     19     38     10   1600            4.0   \n19      15     10     52     28     18      4      8   1564            4.0   \n20      40     49     23     41     28      2      9   1595            4.0   \n21      43      1     47      3     40     39      6   1563            4.0   \n22      64     52     28     15      0     17     40   1555            4.0   \n23       4     43     20     58     17     37     46   1363            4.0   \n24      28     47     43     25     60     44     39   1229            4.0   \n25       9     53      3     24     34     10     47   1745            3.5   \n26      49     40     17      4      9     32     11   1579            3.5   \n27      51     13     46     37     14      6      0   1552            3.5   \n28      24      4     22     19     20      8     36   1507            0.5   \n29      50      6     38     34     52     48      0   1602            3.5   \n30      52     64     15     55     31     61     50   1522            3.5   \n31      58     55     64     10     30     50     14   1494            3.5   \n32      61      8     44     18     51     26     13   1441            3.5   \n33      60     12     50     36     13     15     51   1449            3.5   \n34       6     60     37     29     25     11     52   1399            3.5   \n35      46     38     56      6     57     52     48   1438            3.5   \n36      13     57     51     33      0     16     28   1355            3.5   \n37       0      5     34     27      0     23     61    980            3.5   \n38      11     35     29     12      0     18     15   1423            3.0   \n39       1     54     40     16     44     21     24   1436            3.0   \n40      20     26     39     59     21     56     22   1348            3.0   \n41      59     17     58     20      0      0      0   1403            3.0   \n42      12     50     57     60     61     64     56   1332            3.0   \n43      21     23     24     63     59     46     55   1283            3.0   \n44       0     14     32     53     39     24     59   1199            3.0   \n45       5     51     60     56     63     55     58   1242            3.0   \n46      35      7     27     50     64     43     23    377            3.0   \n47      18     24     21     61      8     51     25   1362            2.5   \n48      17     63      0     52      0     29     35   1382            2.5   \n49      26     20     63     64     58      0      0   1291            2.5   \n50      29     42     33     46      0     31     30   1056            2.5   \n51      27     45     36     57     32     47     33   1011            2.5   \n52      30     22     19     48     29     35     34    935            2.5   \n53       0     25      0     44      0     57      0   1393            2.0   \n54      14     39     61      0     15     59     64   1270            2.0   \n55      62     31     10     30      0     45     43   1186            2.0   \n56       0     11     35     45      0     40     42   1153            2.0   \n57       7     36     42     51     35     53      0   1092            2.0   \n58      31      2     41     23     49      0     45    917            2.0   \n59      41      0      9     40     43     54     44    853            2.0   \n60      33     34     45     42     24      0      0    967            1.5   \n61      32      3     54     47     42     30     37    955            1.5   \n62      55      0      0      0      0      0      0   1530            1.0   \n63       2     48     49     43     45      0      0   1175            1.0   \n64      22     30     31     49     46     42     54   1163            1.0   \n\n    Player_ID State                   Player_Names  \n1          1    ON                     [GARY, HUA]  \n2          2    MI              [DAKSHESH, DARURI]  \n3          3    MI                 [ADITYA, BAJAJ]  \n4          4    MI         [PATRICK, H, SCHILLING]  \n5          5    MI                   [HANSHI, ZUO]  \n6          6    OH                  [HANSEN, SONG]  \n7          7    MI           [GARY, DEE, SWATHELL]  \n8          8    MI             [EZEKIEL, HOUGHTON]  \n9          9    ON                  [STEFANO, LEE]  \n10        10    MI                    [ANVIT, RAO]  \n11        11    MI   [CAMERON, WILLIAM, MC, LEMAN]  \n12        12    MI              [KENNETH, J, TACK]  \n13        13    MI           [TORRANCE, HENRY, JR]  \n14        14    MI                 [BRADLEY, SHAW]  \n15        15    MI      [ZACHARY, JAMES, HOUGHTON]  \n16        16    MI                 [MIKE, NIKITIN]  \n17        17    MI           [RONALD, GRZEGORCZYK]  \n18        18    MI                [DAVID, SUNDEEN]  \n19        19    MI                 [DIPANKAR, ROY]  \n20        20    MI                  [JASON, ZHENG]  \n21        21    ON               [DINH, DANG, BUI]  \n22        22    MI            [EUGENE, L, MCCLURE]  \n23        23    ON                     [ALAN, BUI]  \n24        24    MI           [MICHAEL, R, ALDRICH]  \n25        25    MI             [LOREN, SCHWIEBERT]  \n26        26    ON                      [MAX, ZHU]  \n27        27    MI               [GAURAV, GIDWANI]  \n28        28    MI   [SOFIA, ADINA, STANESCUBELLU]  \n29        29    MI             [CHIEDOZIE, OKORIE]  \n30        30    ON          [GEORGE, AVERY, JONES]  \n31        31    MI                 [RISHI, SHETTY]  \n32        32    ON       [JOSHUA, PHILIP, MATHEWS]  \n33        33    MI                      [JADE, GE]  \n34        34    MI      [MICHAEL, JEFFERY, THOMAS]  \n35        35    MI            [JOSHUA, DAVID, LEE]  \n36        36    MI                [SIDDHARTH, JHA]  \n37        37    MI         [AMIYATOSH, PWNANANDAM]  \n38        38    MI                    [BRIAN, LIU]  \n39        39    MI               [JOEL, R, HENDON]  \n40        40    MI                 [FOREST, ZHANG]  \n41        41    MI         [KYLE, WILLIAM, MURPHY]  \n42        42    MI                     [JARED, GE]  \n43        43    MI           [ROBERT, GLEN, VASEY]  \n44        44    MI          [JUSTIN, D, SCHILLING]  \n45        45    MI                    [DEREK, YAN]  \n46        46    MI    [JACOB, ALEXANDER, LAVALLEY]  \n47        47    MI                  [ERIC, WRIGHT]  \n48        48    MI                 [DANIEL, KHAIN]  \n49        49    MI            [MICHAEL, J, MARTIN]  \n50        50    MI                   [SHIVAM, JHA]  \n51        51    MI               [TEJAS, AYYAGARI]  \n52        52    MI                    [ETHAN, GUO]  \n53        53    MI               [JOSE, C, YBARRA]  \n54        54    MI                  [LARRY, HODGE]  \n55        55    MI                    [ALEX, KONG]  \n56        56    MI                 [MARISA, RICCI]  \n57        57    MI                   [MICHAEL, LU]  \n58        58    MI                 [VIRAJ, MOHILE]  \n59        59    MI          [SEAN, M, MC, CORMICK]  \n60        60    MI                   [JULIA, SHEN]  \n61        61    ON                [JEZZEL, FARKAS]  \n62        62    MI                [ASHWIN, BALAJI]  \n63        63    MI        [THOMAS, JOSEPH, HOSMER]  \n64        64    MI                       [BEN, LI]  ",
      "text/html": "<div>\n<style scoped>\n    .dataframe tbody tr th:only-of-type {\n        vertical-align: middle;\n    }\n\n    .dataframe tbody tr th {\n        vertical-align: top;\n    }\n\n    .dataframe thead th {\n        text-align: right;\n    }\n</style>\n<table border=\"1\" class=\"dataframe\">\n  <thead>\n    <tr style=\"text-align: right;\">\n      <th></th>\n      <th>Round1</th>\n      <th>Round2</th>\n      <th>Round3</th>\n      <th>Round4</th>\n      <th>Round5</th>\n      <th>Round6</th>\n      <th>Round7</th>\n      <th>Ratings</th>\n      <th>Total_Points</th>\n      <th>Player_ID</th>\n      <th>State</th>\n      <th>Player_Names</th>\n    </tr>\n  </thead>\n  <tbody>\n    <tr>\n      <th>1</th>\n      <td>39</td>\n      <td>21</td>\n      <td>18</td>\n      <td>14</td>\n      <td>7</td>\n      <td>12</td>\n      <td>4</td>\n      <td>1794</td>\n      <td>6.0</td>\n      <td>1</td>\n      <td>ON</td>\n      <td>[GARY, HUA]</td>\n    </tr>\n    <tr>\n      <th>2</th>\n      <td>63</td>\n      <td>58</td>\n      <td>4</td>\n      <td>17</td>\n      <td>16</td>\n      <td>20</td>\n      <td>7</td>\n      <td>1553</td>\n      <td>6.0</td>\n      <td>2</td>\n      <td>MI</td>\n      <td>[DAKSHESH, DARURI]</td>\n    </tr>\n    <tr>\n      <th>3</th>\n      <td>8</td>\n      <td>61</td>\n      <td>25</td>\n      <td>21</td>\n      <td>11</td>\n      <td>13</td>\n      <td>12</td>\n      <td>1384</td>\n      <td>6.0</td>\n      <td>3</td>\n      <td>MI</td>\n      <td>[ADITYA, BAJAJ]</td>\n    </tr>\n    <tr>\n      <th>4</th>\n      <td>23</td>\n      <td>28</td>\n      <td>2</td>\n      <td>26</td>\n      <td>5</td>\n      <td>19</td>\n      <td>1</td>\n      <td>1716</td>\n      <td>5.5</td>\n      <td>4</td>\n      <td>MI</td>\n      <td>[PATRICK, H, SCHILLING]</td>\n    </tr>\n    <tr>\n      <th>5</th>\n      <td>45</td>\n      <td>37</td>\n      <td>12</td>\n      <td>13</td>\n      <td>4</td>\n      <td>14</td>\n      <td>17</td>\n      <td>1655</td>\n      <td>5.5</td>\n      <td>5</td>\n      <td>MI</td>\n      <td>[HANSHI, ZUO]</td>\n    </tr>\n    <tr>\n      <th>6</th>\n      <td>34</td>\n      <td>29</td>\n      <td>11</td>\n      <td>35</td>\n      <td>10</td>\n      <td>27</td>\n      <td>21</td>\n      <td>1686</td>\n      <td>5.0</td>\n      <td>6</td>\n      <td>OH</td>\n      <td>[HANSEN, SONG]</td>\n    </tr>\n    <tr>\n      <th>7</th>\n      <td>57</td>\n      <td>46</td>\n      <td>13</td>\n      <td>11</td>\n      <td>1</td>\n      <td>9</td>\n      <td>2</td>\n      <td>1649</td>\n      <td>5.0</td>\n      <td>7</td>\n      <td>MI</td>\n      <td>[GARY, DEE, SWATHELL]</td>\n    </tr>\n    <tr>\n      <th>8</th>\n      <td>3</td>\n      <td>32</td>\n      <td>14</td>\n      <td>9</td>\n      <td>47</td>\n      <td>28</td>\n      <td>19</td>\n      <td>1641</td>\n      <td>5.0</td>\n      <td>8</td>\n      <td>MI</td>\n      <td>[EZEKIEL, HOUGHTON]</td>\n    </tr>\n    <tr>\n      <th>9</th>\n      <td>25</td>\n      <td>18</td>\n      <td>59</td>\n      <td>8</td>\n      <td>26</td>\n      <td>7</td>\n      <td>20</td>\n      <td>1411</td>\n      <td>5.0</td>\n      <td>9</td>\n      <td>ON</td>\n      <td>[STEFANO, LEE]</td>\n    </tr>\n    <tr>\n      <th>10</th>\n      <td>16</td>\n      <td>19</td>\n      <td>55</td>\n      <td>31</td>\n      <td>6</td>\n      <td>25</td>\n      <td>18</td>\n      <td>1365</td>\n      <td>5.0</td>\n      <td>10</td>\n      <td>MI</td>\n      <td>[ANVIT, RAO]</td>\n    </tr>\n    <tr>\n      <th>11</th>\n      <td>38</td>\n      <td>56</td>\n      <td>6</td>\n      <td>7</td>\n      <td>3</td>\n      <td>34</td>\n      <td>26</td>\n      <td>1712</td>\n      <td>4.5</td>\n      <td>11</td>\n      <td>MI</td>\n      <td>[CAMERON, WILLIAM, MC, LEMAN]</td>\n    </tr>\n    <tr>\n      <th>12</th>\n      <td>42</td>\n      <td>33</td>\n      <td>5</td>\n      <td>38</td>\n      <td>0</td>\n      <td>1</td>\n      <td>3</td>\n      <td>1663</td>\n      <td>4.5</td>\n      <td>12</td>\n      <td>MI</td>\n      <td>[KENNETH, J, TACK]</td>\n    </tr>\n    <tr>\n      <th>13</th>\n      <td>36</td>\n      <td>27</td>\n      <td>7</td>\n      <td>5</td>\n      <td>33</td>\n      <td>3</td>\n      <td>32</td>\n      <td>1666</td>\n      <td>4.5</td>\n      <td>13</td>\n      <td>MI</td>\n      <td>[TORRANCE, HENRY, JR]</td>\n    </tr>\n    <tr>\n      <th>14</th>\n      <td>54</td>\n      <td>44</td>\n      <td>8</td>\n      <td>1</td>\n      <td>27</td>\n      <td>5</td>\n      <td>31</td>\n      <td>1610</td>\n      <td>4.5</td>\n      <td>14</td>\n      <td>MI</td>\n      <td>[BRADLEY, SHAW]</td>\n    </tr>\n    <tr>\n      <th>15</th>\n      <td>19</td>\n      <td>16</td>\n      <td>30</td>\n      <td>22</td>\n      <td>54</td>\n      <td>33</td>\n      <td>38</td>\n      <td>1220</td>\n      <td>4.5</td>\n      <td>15</td>\n      <td>MI</td>\n      <td>[ZACHARY, JAMES, HOUGHTON]</td>\n    </tr>\n    <tr>\n      <th>16</th>\n      <td>10</td>\n      <td>15</td>\n      <td>0</td>\n      <td>39</td>\n      <td>2</td>\n      <td>36</td>\n      <td>0</td>\n      <td>1604</td>\n      <td>4.0</td>\n      <td>16</td>\n      <td>MI</td>\n      <td>[MIKE, NIKITIN]</td>\n    </tr>\n    <tr>\n      <th>17</th>\n      <td>48</td>\n      <td>41</td>\n      <td>26</td>\n      <td>2</td>\n      <td>23</td>\n      <td>22</td>\n      <td>5</td>\n      <td>1629</td>\n      <td>4.0</td>\n      <td>17</td>\n      <td>MI</td>\n      <td>[RONALD, GRZEGORCZYK]</td>\n    </tr>\n    <tr>\n      <th>18</th>\n      <td>47</td>\n      <td>9</td>\n      <td>1</td>\n      <td>32</td>\n      <td>19</td>\n      <td>38</td>\n      <td>10</td>\n      <td>1600</td>\n      <td>4.0</td>\n      <td>18</td>\n      <td>MI</td>\n      <td>[DAVID, SUNDEEN]</td>\n    </tr>\n    <tr>\n      <th>19</th>\n      <td>15</td>\n      <td>10</td>\n      <td>52</td>\n      <td>28</td>\n      <td>18</td>\n      <td>4</td>\n      <td>8</td>\n      <td>1564</td>\n      <td>4.0</td>\n      <td>19</td>\n      <td>MI</td>\n      <td>[DIPANKAR, ROY]</td>\n    </tr>\n    <tr>\n      <th>20</th>\n      <td>40</td>\n      <td>49</td>\n      <td>23</td>\n      <td>41</td>\n      <td>28</td>\n      <td>2</td>\n      <td>9</td>\n      <td>1595</td>\n      <td>4.0</td>\n      <td>20</td>\n      <td>MI</td>\n      <td>[JASON, ZHENG]</td>\n    </tr>\n    <tr>\n      <th>21</th>\n      <td>43</td>\n      <td>1</td>\n      <td>47</td>\n      <td>3</td>\n      <td>40</td>\n      <td>39</td>\n      <td>6</td>\n      <td>1563</td>\n      <td>4.0</td>\n      <td>21</td>\n      <td>ON</td>\n      <td>[DINH, DANG, BUI]</td>\n    </tr>\n    <tr>\n      <th>22</th>\n      <td>64</td>\n      <td>52</td>\n      <td>28</td>\n      <td>15</td>\n      <td>0</td>\n      <td>17</td>\n      <td>40</td>\n      <td>1555</td>\n      <td>4.0</td>\n      <td>22</td>\n      <td>MI</td>\n      <td>[EUGENE, L, MCCLURE]</td>\n    </tr>\n    <tr>\n      <th>23</th>\n      <td>4</td>\n      <td>43</td>\n      <td>20</td>\n      <td>58</td>\n      <td>17</td>\n      <td>37</td>\n      <td>46</td>\n      <td>1363</td>\n      <td>4.0</td>\n      <td>23</td>\n      <td>ON</td>\n      <td>[ALAN, BUI]</td>\n    </tr>\n    <tr>\n      <th>24</th>\n      <td>28</td>\n      <td>47</td>\n      <td>43</td>\n      <td>25</td>\n      <td>60</td>\n      <td>44</td>\n      <td>39</td>\n      <td>1229</td>\n      <td>4.0</td>\n      <td>24</td>\n      <td>MI</td>\n      <td>[MICHAEL, R, ALDRICH]</td>\n    </tr>\n    <tr>\n      <th>25</th>\n      <td>9</td>\n      <td>53</td>\n      <td>3</td>\n      <td>24</td>\n      <td>34</td>\n      <td>10</td>\n      <td>47</td>\n      <td>1745</td>\n      <td>3.5</td>\n      <td>25</td>\n      <td>MI</td>\n      <td>[LOREN, SCHWIEBERT]</td>\n    </tr>\n    <tr>\n      <th>26</th>\n      <td>49</td>\n      <td>40</td>\n      <td>17</td>\n      <td>4</td>\n      <td>9</td>\n      <td>32</td>\n      <td>11</td>\n      <td>1579</td>\n      <td>3.5</td>\n      <td>26</td>\n      <td>ON</td>\n      <td>[MAX, ZHU]</td>\n    </tr>\n    <tr>\n      <th>27</th>\n      <td>51</td>\n      <td>13</td>\n      <td>46</td>\n      <td>37</td>\n      <td>14</td>\n      <td>6</td>\n      <td>0</td>\n      <td>1552</td>\n      <td>3.5</td>\n      <td>27</td>\n      <td>MI</td>\n      <td>[GAURAV, GIDWANI]</td>\n    </tr>\n    <tr>\n      <th>28</th>\n      <td>24</td>\n      <td>4</td>\n      <td>22</td>\n      <td>19</td>\n      <td>20</td>\n      <td>8</td>\n      <td>36</td>\n      <td>1507</td>\n      <td>0.5</td>\n      <td>28</td>\n      <td>MI</td>\n      <td>[SOFIA, ADINA, STANESCUBELLU]</td>\n    </tr>\n    <tr>\n      <th>29</th>\n      <td>50</td>\n      <td>6</td>\n      <td>38</td>\n      <td>34</td>\n      <td>52</td>\n      <td>48</td>\n      <td>0</td>\n      <td>1602</td>\n      <td>3.5</td>\n      <td>29</td>\n      <td>MI</td>\n      <td>[CHIEDOZIE, OKORIE]</td>\n    </tr>\n    <tr>\n      <th>30</th>\n      <td>52</td>\n      <td>64</td>\n      <td>15</td>\n      <td>55</td>\n      <td>31</td>\n      <td>61</td>\n      <td>50</td>\n      <td>1522</td>\n      <td>3.5</td>\n      <td>30</td>\n      <td>ON</td>\n      <td>[GEORGE, AVERY, JONES]</td>\n    </tr>\n    <tr>\n      <th>31</th>\n      <td>58</td>\n      <td>55</td>\n      <td>64</td>\n      <td>10</td>\n      <td>30</td>\n      <td>50</td>\n      <td>14</td>\n      <td>1494</td>\n      <td>3.5</td>\n      <td>31</td>\n      <td>MI</td>\n      <td>[RISHI, SHETTY]</td>\n    </tr>\n    <tr>\n      <th>32</th>\n      <td>61</td>\n      <td>8</td>\n      <td>44</td>\n      <td>18</td>\n      <td>51</td>\n      <td>26</td>\n      <td>13</td>\n      <td>1441</td>\n      <td>3.5</td>\n      <td>32</td>\n      <td>ON</td>\n      <td>[JOSHUA, PHILIP, MATHEWS]</td>\n    </tr>\n    <tr>\n      <th>33</th>\n      <td>60</td>\n      <td>12</td>\n      <td>50</td>\n      <td>36</td>\n      <td>13</td>\n      <td>15</td>\n      <td>51</td>\n      <td>1449</td>\n      <td>3.5</td>\n      <td>33</td>\n      <td>MI</td>\n      <td>[JADE, GE]</td>\n    </tr>\n    <tr>\n      <th>34</th>\n      <td>6</td>\n      <td>60</td>\n      <td>37</td>\n      <td>29</td>\n      <td>25</td>\n      <td>11</td>\n      <td>52</td>\n      <td>1399</td>\n      <td>3.5</td>\n      <td>34</td>\n      <td>MI</td>\n      <td>[MICHAEL, JEFFERY, THOMAS]</td>\n    </tr>\n    <tr>\n      <th>35</th>\n      <td>46</td>\n      <td>38</td>\n      <td>56</td>\n      <td>6</td>\n      <td>57</td>\n      <td>52</td>\n      <td>48</td>\n      <td>1438</td>\n      <td>3.5</td>\n      <td>35</td>\n      <td>MI</td>\n      <td>[JOSHUA, DAVID, LEE]</td>\n    </tr>\n    <tr>\n      <th>36</th>\n      <td>13</td>\n      <td>57</td>\n      <td>51</td>\n      <td>33</td>\n      <td>0</td>\n      <td>16</td>\n      <td>28</td>\n      <td>1355</td>\n      <td>3.5</td>\n      <td>36</td>\n      <td>MI</td>\n      <td>[SIDDHARTH, JHA]</td>\n    </tr>\n    <tr>\n      <th>37</th>\n      <td>0</td>\n      <td>5</td>\n      <td>34</td>\n      <td>27</td>\n      <td>0</td>\n      <td>23</td>\n      <td>61</td>\n      <td>980</td>\n      <td>3.5</td>\n      <td>37</td>\n      <td>MI</td>\n      <td>[AMIYATOSH, PWNANANDAM]</td>\n    </tr>\n    <tr>\n      <th>38</th>\n      <td>11</td>\n      <td>35</td>\n      <td>29</td>\n      <td>12</td>\n      <td>0</td>\n      <td>18</td>\n      <td>15</td>\n      <td>1423</td>\n      <td>3.0</td>\n      <td>38</td>\n      <td>MI</td>\n      <td>[BRIAN, LIU]</td>\n    </tr>\n    <tr>\n      <th>39</th>\n      <td>1</td>\n      <td>54</td>\n      <td>40</td>\n      <td>16</td>\n      <td>44</td>\n      <td>21</td>\n      <td>24</td>\n      <td>1436</td>\n      <td>3.0</td>\n      <td>39</td>\n      <td>MI</td>\n      <td>[JOEL, R, HENDON]</td>\n    </tr>\n    <tr>\n      <th>40</th>\n      <td>20</td>\n      <td>26</td>\n      <td>39</td>\n      <td>59</td>\n      <td>21</td>\n      <td>56</td>\n      <td>22</td>\n      <td>1348</td>\n      <td>3.0</td>\n      <td>40</td>\n      <td>MI</td>\n      <td>[FOREST, ZHANG]</td>\n    </tr>\n    <tr>\n      <th>41</th>\n      <td>59</td>\n      <td>17</td>\n      <td>58</td>\n      <td>20</td>\n      <td>0</td>\n      <td>0</td>\n      <td>0</td>\n      <td>1403</td>\n      <td>3.0</td>\n      <td>41</td>\n      <td>MI</td>\n      <td>[KYLE, WILLIAM, MURPHY]</td>\n    </tr>\n    <tr>\n      <th>42</th>\n      <td>12</td>\n      <td>50</td>\n      <td>57</td>\n      <td>60</td>\n      <td>61</td>\n      <td>64</td>\n      <td>56</td>\n      <td>1332</td>\n      <td>3.0</td>\n      <td>42</td>\n      <td>MI</td>\n      <td>[JARED, GE]</td>\n    </tr>\n    <tr>\n      <th>43</th>\n      <td>21</td>\n      <td>23</td>\n      <td>24</td>\n      <td>63</td>\n      <td>59</td>\n      <td>46</td>\n      <td>55</td>\n      <td>1283</td>\n      <td>3.0</td>\n      <td>43</td>\n      <td>MI</td>\n      <td>[ROBERT, GLEN, VASEY]</td>\n    </tr>\n    <tr>\n      <th>44</th>\n      <td>0</td>\n      <td>14</td>\n      <td>32</td>\n      <td>53</td>\n      <td>39</td>\n      <td>24</td>\n      <td>59</td>\n      <td>1199</td>\n      <td>3.0</td>\n      <td>44</td>\n      <td>MI</td>\n      <td>[JUSTIN, D, SCHILLING]</td>\n    </tr>\n    <tr>\n      <th>45</th>\n      <td>5</td>\n      <td>51</td>\n      <td>60</td>\n      <td>56</td>\n      <td>63</td>\n      <td>55</td>\n      <td>58</td>\n      <td>1242</td>\n      <td>3.0</td>\n      <td>45</td>\n      <td>MI</td>\n      <td>[DEREK, YAN]</td>\n    </tr>\n    <tr>\n      <th>46</th>\n      <td>35</td>\n      <td>7</td>\n      <td>27</td>\n      <td>50</td>\n      <td>64</td>\n      <td>43</td>\n      <td>23</td>\n      <td>377</td>\n      <td>3.0</td>\n      <td>46</td>\n      <td>MI</td>\n      <td>[JACOB, ALEXANDER, LAVALLEY]</td>\n    </tr>\n    <tr>\n      <th>47</th>\n      <td>18</td>\n      <td>24</td>\n      <td>21</td>\n      <td>61</td>\n      <td>8</td>\n      <td>51</td>\n      <td>25</td>\n      <td>1362</td>\n      <td>2.5</td>\n      <td>47</td>\n      <td>MI</td>\n      <td>[ERIC, WRIGHT]</td>\n    </tr>\n    <tr>\n      <th>48</th>\n      <td>17</td>\n      <td>63</td>\n      <td>0</td>\n      <td>52</td>\n      <td>0</td>\n      <td>29</td>\n      <td>35</td>\n      <td>1382</td>\n      <td>2.5</td>\n      <td>48</td>\n      <td>MI</td>\n      <td>[DANIEL, KHAIN]</td>\n    </tr>\n    <tr>\n      <th>49</th>\n      <td>26</td>\n      <td>20</td>\n      <td>63</td>\n      <td>64</td>\n      <td>58</td>\n      <td>0</td>\n      <td>0</td>\n      <td>1291</td>\n      <td>2.5</td>\n      <td>49</td>\n      <td>MI</td>\n      <td>[MICHAEL, J, MARTIN]</td>\n    </tr>\n    <tr>\n      <th>50</th>\n      <td>29</td>\n      <td>42</td>\n      <td>33</td>\n      <td>46</td>\n      <td>0</td>\n      <td>31</td>\n      <td>30</td>\n      <td>1056</td>\n      <td>2.5</td>\n      <td>50</td>\n      <td>MI</td>\n      <td>[SHIVAM, JHA]</td>\n    </tr>\n    <tr>\n      <th>51</th>\n      <td>27</td>\n      <td>45</td>\n      <td>36</td>\n      <td>57</td>\n      <td>32</td>\n      <td>47</td>\n      <td>33</td>\n      <td>1011</td>\n      <td>2.5</td>\n      <td>51</td>\n      <td>MI</td>\n      <td>[TEJAS, AYYAGARI]</td>\n    </tr>\n    <tr>\n      <th>52</th>\n      <td>30</td>\n      <td>22</td>\n      <td>19</td>\n      <td>48</td>\n      <td>29</td>\n      <td>35</td>\n      <td>34</td>\n      <td>935</td>\n      <td>2.5</td>\n      <td>52</td>\n      <td>MI</td>\n      <td>[ETHAN, GUO]</td>\n    </tr>\n    <tr>\n      <th>53</th>\n      <td>0</td>\n      <td>25</td>\n      <td>0</td>\n      <td>44</td>\n      <td>0</td>\n      <td>57</td>\n      <td>0</td>\n      <td>1393</td>\n      <td>2.0</td>\n      <td>53</td>\n      <td>MI</td>\n      <td>[JOSE, C, YBARRA]</td>\n    </tr>\n    <tr>\n      <th>54</th>\n      <td>14</td>\n      <td>39</td>\n      <td>61</td>\n      <td>0</td>\n      <td>15</td>\n      <td>59</td>\n      <td>64</td>\n      <td>1270</td>\n      <td>2.0</td>\n      <td>54</td>\n      <td>MI</td>\n      <td>[LARRY, HODGE]</td>\n    </tr>\n    <tr>\n      <th>55</th>\n      <td>62</td>\n      <td>31</td>\n      <td>10</td>\n      <td>30</td>\n      <td>0</td>\n      <td>45</td>\n      <td>43</td>\n      <td>1186</td>\n      <td>2.0</td>\n      <td>55</td>\n      <td>MI</td>\n      <td>[ALEX, KONG]</td>\n    </tr>\n    <tr>\n      <th>56</th>\n      <td>0</td>\n      <td>11</td>\n      <td>35</td>\n      <td>45</td>\n      <td>0</td>\n      <td>40</td>\n      <td>42</td>\n      <td>1153</td>\n      <td>2.0</td>\n      <td>56</td>\n      <td>MI</td>\n      <td>[MARISA, RICCI]</td>\n    </tr>\n    <tr>\n      <th>57</th>\n      <td>7</td>\n      <td>36</td>\n      <td>42</td>\n      <td>51</td>\n      <td>35</td>\n      <td>53</td>\n      <td>0</td>\n      <td>1092</td>\n      <td>2.0</td>\n      <td>57</td>\n      <td>MI</td>\n      <td>[MICHAEL, LU]</td>\n    </tr>\n    <tr>\n      <th>58</th>\n      <td>31</td>\n      <td>2</td>\n      <td>41</td>\n      <td>23</td>\n      <td>49</td>\n      <td>0</td>\n      <td>45</td>\n      <td>917</td>\n      <td>2.0</td>\n      <td>58</td>\n      <td>MI</td>\n      <td>[VIRAJ, MOHILE]</td>\n    </tr>\n    <tr>\n      <th>59</th>\n      <td>41</td>\n      <td>0</td>\n      <td>9</td>\n      <td>40</td>\n      <td>43</td>\n      <td>54</td>\n      <td>44</td>\n      <td>853</td>\n      <td>2.0</td>\n      <td>59</td>\n      <td>MI</td>\n      <td>[SEAN, M, MC, CORMICK]</td>\n    </tr>\n    <tr>\n      <th>60</th>\n      <td>33</td>\n      <td>34</td>\n      <td>45</td>\n      <td>42</td>\n      <td>24</td>\n      <td>0</td>\n      <td>0</td>\n      <td>967</td>\n      <td>1.5</td>\n      <td>60</td>\n      <td>MI</td>\n      <td>[JULIA, SHEN]</td>\n    </tr>\n    <tr>\n      <th>61</th>\n      <td>32</td>\n      <td>3</td>\n      <td>54</td>\n      <td>47</td>\n      <td>42</td>\n      <td>30</td>\n      <td>37</td>\n      <td>955</td>\n      <td>1.5</td>\n      <td>61</td>\n      <td>ON</td>\n      <td>[JEZZEL, FARKAS]</td>\n    </tr>\n    <tr>\n      <th>62</th>\n      <td>55</td>\n      <td>0</td>\n      <td>0</td>\n      <td>0</td>\n      <td>0</td>\n      <td>0</td>\n      <td>0</td>\n      <td>1530</td>\n      <td>1.0</td>\n      <td>62</td>\n      <td>MI</td>\n      <td>[ASHWIN, BALAJI]</td>\n    </tr>\n    <tr>\n      <th>63</th>\n      <td>2</td>\n      <td>48</td>\n      <td>49</td>\n      <td>43</td>\n      <td>45</td>\n      <td>0</td>\n      <td>0</td>\n      <td>1175</td>\n      <td>1.0</td>\n      <td>63</td>\n      <td>MI</td>\n      <td>[THOMAS, JOSEPH, HOSMER]</td>\n    </tr>\n    <tr>\n      <th>64</th>\n      <td>22</td>\n      <td>30</td>\n      <td>31</td>\n      <td>49</td>\n      <td>46</td>\n      <td>42</td>\n      <td>54</td>\n      <td>1163</td>\n      <td>1.0</td>\n      <td>64</td>\n      <td>MI</td>\n      <td>[BEN, LI]</td>\n    </tr>\n  </tbody>\n</table>\n</div>"
     },
     "execution_count": 1045,
     "metadata": {},
     "output_type": "execute_result"
    }
   ],
   "source": [
    "chess_df"
   ],
   "metadata": {
    "collapsed": false,
    "pycharm": {
     "name": "#%%\n"
    }
   }
  },
  {
   "cell_type": "markdown",
   "source": [
    "#### Replace index with Players Name so Players are identified first."
   ],
   "metadata": {
    "collapsed": false,
    "pycharm": {
     "name": "#%% md\n"
    }
   }
  },
  {
   "cell_type": "code",
   "execution_count": 1046,
   "outputs": [
    {
     "data": {
      "text/plain": "                              Round1 Round2 Round3 Round4 Round5 Round6  \\\nPlayer_Names                                                              \n[GARY, HUA]                       39     21     18     14      7     12   \n[DAKSHESH, DARURI]                63     58      4     17     16     20   \n[ADITYA, BAJAJ]                    8     61     25     21     11     13   \n[PATRICK, H, SCHILLING]           23     28      2     26      5     19   \n[HANSHI, ZUO]                     45     37     12     13      4     14   \n[HANSEN, SONG]                    34     29     11     35     10     27   \n[GARY, DEE, SWATHELL]             57     46     13     11      1      9   \n[EZEKIEL, HOUGHTON]                3     32     14      9     47     28   \n[STEFANO, LEE]                    25     18     59      8     26      7   \n[ANVIT, RAO]                      16     19     55     31      6     25   \n[CAMERON, WILLIAM, MC, LEMAN]     38     56      6      7      3     34   \n[KENNETH, J, TACK]                42     33      5     38      0      1   \n[TORRANCE, HENRY, JR]             36     27      7      5     33      3   \n[BRADLEY, SHAW]                   54     44      8      1     27      5   \n[ZACHARY, JAMES, HOUGHTON]        19     16     30     22     54     33   \n[MIKE, NIKITIN]                   10     15      0     39      2     36   \n[RONALD, GRZEGORCZYK]             48     41     26      2     23     22   \n[DAVID, SUNDEEN]                  47      9      1     32     19     38   \n[DIPANKAR, ROY]                   15     10     52     28     18      4   \n[JASON, ZHENG]                    40     49     23     41     28      2   \n[DINH, DANG, BUI]                 43      1     47      3     40     39   \n[EUGENE, L, MCCLURE]              64     52     28     15      0     17   \n[ALAN, BUI]                        4     43     20     58     17     37   \n[MICHAEL, R, ALDRICH]             28     47     43     25     60     44   \n[LOREN, SCHWIEBERT]                9     53      3     24     34     10   \n[MAX, ZHU]                        49     40     17      4      9     32   \n[GAURAV, GIDWANI]                 51     13     46     37     14      6   \n[SOFIA, ADINA, STANESCUBELLU]     24      4     22     19     20      8   \n[CHIEDOZIE, OKORIE]               50      6     38     34     52     48   \n[GEORGE, AVERY, JONES]            52     64     15     55     31     61   \n[RISHI, SHETTY]                   58     55     64     10     30     50   \n[JOSHUA, PHILIP, MATHEWS]         61      8     44     18     51     26   \n[JADE, GE]                        60     12     50     36     13     15   \n[MICHAEL, JEFFERY, THOMAS]         6     60     37     29     25     11   \n[JOSHUA, DAVID, LEE]              46     38     56      6     57     52   \n[SIDDHARTH, JHA]                  13     57     51     33      0     16   \n[AMIYATOSH, PWNANANDAM]            0      5     34     27      0     23   \n[BRIAN, LIU]                      11     35     29     12      0     18   \n[JOEL, R, HENDON]                  1     54     40     16     44     21   \n[FOREST, ZHANG]                   20     26     39     59     21     56   \n[KYLE, WILLIAM, MURPHY]           59     17     58     20      0      0   \n[JARED, GE]                       12     50     57     60     61     64   \n[ROBERT, GLEN, VASEY]             21     23     24     63     59     46   \n[JUSTIN, D, SCHILLING]             0     14     32     53     39     24   \n[DEREK, YAN]                       5     51     60     56     63     55   \n[JACOB, ALEXANDER, LAVALLEY]      35      7     27     50     64     43   \n[ERIC, WRIGHT]                    18     24     21     61      8     51   \n[DANIEL, KHAIN]                   17     63      0     52      0     29   \n[MICHAEL, J, MARTIN]              26     20     63     64     58      0   \n[SHIVAM, JHA]                     29     42     33     46      0     31   \n[TEJAS, AYYAGARI]                 27     45     36     57     32     47   \n[ETHAN, GUO]                      30     22     19     48     29     35   \n[JOSE, C, YBARRA]                  0     25      0     44      0     57   \n[LARRY, HODGE]                    14     39     61      0     15     59   \n[ALEX, KONG]                      62     31     10     30      0     45   \n[MARISA, RICCI]                    0     11     35     45      0     40   \n[MICHAEL, LU]                      7     36     42     51     35     53   \n[VIRAJ, MOHILE]                   31      2     41     23     49      0   \n[SEAN, M, MC, CORMICK]            41      0      9     40     43     54   \n[JULIA, SHEN]                     33     34     45     42     24      0   \n[JEZZEL, FARKAS]                  32      3     54     47     42     30   \n[ASHWIN, BALAJI]                  55      0      0      0      0      0   \n[THOMAS, JOSEPH, HOSMER]           2     48     49     43     45      0   \n[BEN, LI]                         22     30     31     49     46     42   \n\n                              Round7 Ratings  Total_Points Player_ID State  \nPlayer_Names                                                                \n[GARY, HUA]                        4   1794            6.0        1    ON   \n[DAKSHESH, DARURI]                 7   1553            6.0        2    MI   \n[ADITYA, BAJAJ]                   12   1384            6.0        3    MI   \n[PATRICK, H, SCHILLING]            1   1716            5.5        4    MI   \n[HANSHI, ZUO]                     17   1655            5.5        5    MI   \n[HANSEN, SONG]                    21   1686            5.0        6    OH   \n[GARY, DEE, SWATHELL]              2   1649            5.0        7    MI   \n[EZEKIEL, HOUGHTON]               19   1641            5.0        8    MI   \n[STEFANO, LEE]                    20   1411            5.0        9    ON   \n[ANVIT, RAO]                      18   1365            5.0       10    MI   \n[CAMERON, WILLIAM, MC, LEMAN]     26   1712            4.5       11    MI   \n[KENNETH, J, TACK]                 3   1663            4.5       12    MI   \n[TORRANCE, HENRY, JR]             32   1666            4.5       13    MI   \n[BRADLEY, SHAW]                   31   1610            4.5       14    MI   \n[ZACHARY, JAMES, HOUGHTON]        38   1220            4.5       15    MI   \n[MIKE, NIKITIN]                    0   1604            4.0       16    MI   \n[RONALD, GRZEGORCZYK]              5   1629            4.0       17    MI   \n[DAVID, SUNDEEN]                  10   1600            4.0       18    MI   \n[DIPANKAR, ROY]                    8   1564            4.0       19    MI   \n[JASON, ZHENG]                     9   1595            4.0       20    MI   \n[DINH, DANG, BUI]                  6   1563            4.0       21    ON   \n[EUGENE, L, MCCLURE]              40   1555            4.0       22    MI   \n[ALAN, BUI]                       46   1363            4.0       23    ON   \n[MICHAEL, R, ALDRICH]             39   1229            4.0       24    MI   \n[LOREN, SCHWIEBERT]               47   1745            3.5       25    MI   \n[MAX, ZHU]                        11   1579            3.5       26    ON   \n[GAURAV, GIDWANI]                  0   1552            3.5       27    MI   \n[SOFIA, ADINA, STANESCUBELLU]     36   1507            0.5       28    MI   \n[CHIEDOZIE, OKORIE]                0   1602            3.5       29    MI   \n[GEORGE, AVERY, JONES]            50   1522            3.5       30    ON   \n[RISHI, SHETTY]                   14   1494            3.5       31    MI   \n[JOSHUA, PHILIP, MATHEWS]         13   1441            3.5       32    ON   \n[JADE, GE]                        51   1449            3.5       33    MI   \n[MICHAEL, JEFFERY, THOMAS]        52   1399            3.5       34    MI   \n[JOSHUA, DAVID, LEE]              48   1438            3.5       35    MI   \n[SIDDHARTH, JHA]                  28   1355            3.5       36    MI   \n[AMIYATOSH, PWNANANDAM]           61    980            3.5       37    MI   \n[BRIAN, LIU]                      15   1423            3.0       38    MI   \n[JOEL, R, HENDON]                 24   1436            3.0       39    MI   \n[FOREST, ZHANG]                   22   1348            3.0       40    MI   \n[KYLE, WILLIAM, MURPHY]            0   1403            3.0       41    MI   \n[JARED, GE]                       56   1332            3.0       42    MI   \n[ROBERT, GLEN, VASEY]             55   1283            3.0       43    MI   \n[JUSTIN, D, SCHILLING]            59   1199            3.0       44    MI   \n[DEREK, YAN]                      58   1242            3.0       45    MI   \n[JACOB, ALEXANDER, LAVALLEY]      23    377            3.0       46    MI   \n[ERIC, WRIGHT]                    25   1362            2.5       47    MI   \n[DANIEL, KHAIN]                   35   1382            2.5       48    MI   \n[MICHAEL, J, MARTIN]               0   1291            2.5       49    MI   \n[SHIVAM, JHA]                     30   1056            2.5       50    MI   \n[TEJAS, AYYAGARI]                 33   1011            2.5       51    MI   \n[ETHAN, GUO]                      34    935            2.5       52    MI   \n[JOSE, C, YBARRA]                  0   1393            2.0       53    MI   \n[LARRY, HODGE]                    64   1270            2.0       54    MI   \n[ALEX, KONG]                      43   1186            2.0       55    MI   \n[MARISA, RICCI]                   42   1153            2.0       56    MI   \n[MICHAEL, LU]                      0   1092            2.0       57    MI   \n[VIRAJ, MOHILE]                   45    917            2.0       58    MI   \n[SEAN, M, MC, CORMICK]            44    853            2.0       59    MI   \n[JULIA, SHEN]                      0    967            1.5       60    MI   \n[JEZZEL, FARKAS]                  37    955            1.5       61    ON   \n[ASHWIN, BALAJI]                   0   1530            1.0       62    MI   \n[THOMAS, JOSEPH, HOSMER]           0   1175            1.0       63    MI   \n[BEN, LI]                         54   1163            1.0       64    MI   ",
      "text/html": "<div>\n<style scoped>\n    .dataframe tbody tr th:only-of-type {\n        vertical-align: middle;\n    }\n\n    .dataframe tbody tr th {\n        vertical-align: top;\n    }\n\n    .dataframe thead th {\n        text-align: right;\n    }\n</style>\n<table border=\"1\" class=\"dataframe\">\n  <thead>\n    <tr style=\"text-align: right;\">\n      <th></th>\n      <th>Round1</th>\n      <th>Round2</th>\n      <th>Round3</th>\n      <th>Round4</th>\n      <th>Round5</th>\n      <th>Round6</th>\n      <th>Round7</th>\n      <th>Ratings</th>\n      <th>Total_Points</th>\n      <th>Player_ID</th>\n      <th>State</th>\n    </tr>\n    <tr>\n      <th>Player_Names</th>\n      <th></th>\n      <th></th>\n      <th></th>\n      <th></th>\n      <th></th>\n      <th></th>\n      <th></th>\n      <th></th>\n      <th></th>\n      <th></th>\n      <th></th>\n    </tr>\n  </thead>\n  <tbody>\n    <tr>\n      <th>[GARY, HUA]</th>\n      <td>39</td>\n      <td>21</td>\n      <td>18</td>\n      <td>14</td>\n      <td>7</td>\n      <td>12</td>\n      <td>4</td>\n      <td>1794</td>\n      <td>6.0</td>\n      <td>1</td>\n      <td>ON</td>\n    </tr>\n    <tr>\n      <th>[DAKSHESH, DARURI]</th>\n      <td>63</td>\n      <td>58</td>\n      <td>4</td>\n      <td>17</td>\n      <td>16</td>\n      <td>20</td>\n      <td>7</td>\n      <td>1553</td>\n      <td>6.0</td>\n      <td>2</td>\n      <td>MI</td>\n    </tr>\n    <tr>\n      <th>[ADITYA, BAJAJ]</th>\n      <td>8</td>\n      <td>61</td>\n      <td>25</td>\n      <td>21</td>\n      <td>11</td>\n      <td>13</td>\n      <td>12</td>\n      <td>1384</td>\n      <td>6.0</td>\n      <td>3</td>\n      <td>MI</td>\n    </tr>\n    <tr>\n      <th>[PATRICK, H, SCHILLING]</th>\n      <td>23</td>\n      <td>28</td>\n      <td>2</td>\n      <td>26</td>\n      <td>5</td>\n      <td>19</td>\n      <td>1</td>\n      <td>1716</td>\n      <td>5.5</td>\n      <td>4</td>\n      <td>MI</td>\n    </tr>\n    <tr>\n      <th>[HANSHI, ZUO]</th>\n      <td>45</td>\n      <td>37</td>\n      <td>12</td>\n      <td>13</td>\n      <td>4</td>\n      <td>14</td>\n      <td>17</td>\n      <td>1655</td>\n      <td>5.5</td>\n      <td>5</td>\n      <td>MI</td>\n    </tr>\n    <tr>\n      <th>[HANSEN, SONG]</th>\n      <td>34</td>\n      <td>29</td>\n      <td>11</td>\n      <td>35</td>\n      <td>10</td>\n      <td>27</td>\n      <td>21</td>\n      <td>1686</td>\n      <td>5.0</td>\n      <td>6</td>\n      <td>OH</td>\n    </tr>\n    <tr>\n      <th>[GARY, DEE, SWATHELL]</th>\n      <td>57</td>\n      <td>46</td>\n      <td>13</td>\n      <td>11</td>\n      <td>1</td>\n      <td>9</td>\n      <td>2</td>\n      <td>1649</td>\n      <td>5.0</td>\n      <td>7</td>\n      <td>MI</td>\n    </tr>\n    <tr>\n      <th>[EZEKIEL, HOUGHTON]</th>\n      <td>3</td>\n      <td>32</td>\n      <td>14</td>\n      <td>9</td>\n      <td>47</td>\n      <td>28</td>\n      <td>19</td>\n      <td>1641</td>\n      <td>5.0</td>\n      <td>8</td>\n      <td>MI</td>\n    </tr>\n    <tr>\n      <th>[STEFANO, LEE]</th>\n      <td>25</td>\n      <td>18</td>\n      <td>59</td>\n      <td>8</td>\n      <td>26</td>\n      <td>7</td>\n      <td>20</td>\n      <td>1411</td>\n      <td>5.0</td>\n      <td>9</td>\n      <td>ON</td>\n    </tr>\n    <tr>\n      <th>[ANVIT, RAO]</th>\n      <td>16</td>\n      <td>19</td>\n      <td>55</td>\n      <td>31</td>\n      <td>6</td>\n      <td>25</td>\n      <td>18</td>\n      <td>1365</td>\n      <td>5.0</td>\n      <td>10</td>\n      <td>MI</td>\n    </tr>\n    <tr>\n      <th>[CAMERON, WILLIAM, MC, LEMAN]</th>\n      <td>38</td>\n      <td>56</td>\n      <td>6</td>\n      <td>7</td>\n      <td>3</td>\n      <td>34</td>\n      <td>26</td>\n      <td>1712</td>\n      <td>4.5</td>\n      <td>11</td>\n      <td>MI</td>\n    </tr>\n    <tr>\n      <th>[KENNETH, J, TACK]</th>\n      <td>42</td>\n      <td>33</td>\n      <td>5</td>\n      <td>38</td>\n      <td>0</td>\n      <td>1</td>\n      <td>3</td>\n      <td>1663</td>\n      <td>4.5</td>\n      <td>12</td>\n      <td>MI</td>\n    </tr>\n    <tr>\n      <th>[TORRANCE, HENRY, JR]</th>\n      <td>36</td>\n      <td>27</td>\n      <td>7</td>\n      <td>5</td>\n      <td>33</td>\n      <td>3</td>\n      <td>32</td>\n      <td>1666</td>\n      <td>4.5</td>\n      <td>13</td>\n      <td>MI</td>\n    </tr>\n    <tr>\n      <th>[BRADLEY, SHAW]</th>\n      <td>54</td>\n      <td>44</td>\n      <td>8</td>\n      <td>1</td>\n      <td>27</td>\n      <td>5</td>\n      <td>31</td>\n      <td>1610</td>\n      <td>4.5</td>\n      <td>14</td>\n      <td>MI</td>\n    </tr>\n    <tr>\n      <th>[ZACHARY, JAMES, HOUGHTON]</th>\n      <td>19</td>\n      <td>16</td>\n      <td>30</td>\n      <td>22</td>\n      <td>54</td>\n      <td>33</td>\n      <td>38</td>\n      <td>1220</td>\n      <td>4.5</td>\n      <td>15</td>\n      <td>MI</td>\n    </tr>\n    <tr>\n      <th>[MIKE, NIKITIN]</th>\n      <td>10</td>\n      <td>15</td>\n      <td>0</td>\n      <td>39</td>\n      <td>2</td>\n      <td>36</td>\n      <td>0</td>\n      <td>1604</td>\n      <td>4.0</td>\n      <td>16</td>\n      <td>MI</td>\n    </tr>\n    <tr>\n      <th>[RONALD, GRZEGORCZYK]</th>\n      <td>48</td>\n      <td>41</td>\n      <td>26</td>\n      <td>2</td>\n      <td>23</td>\n      <td>22</td>\n      <td>5</td>\n      <td>1629</td>\n      <td>4.0</td>\n      <td>17</td>\n      <td>MI</td>\n    </tr>\n    <tr>\n      <th>[DAVID, SUNDEEN]</th>\n      <td>47</td>\n      <td>9</td>\n      <td>1</td>\n      <td>32</td>\n      <td>19</td>\n      <td>38</td>\n      <td>10</td>\n      <td>1600</td>\n      <td>4.0</td>\n      <td>18</td>\n      <td>MI</td>\n    </tr>\n    <tr>\n      <th>[DIPANKAR, ROY]</th>\n      <td>15</td>\n      <td>10</td>\n      <td>52</td>\n      <td>28</td>\n      <td>18</td>\n      <td>4</td>\n      <td>8</td>\n      <td>1564</td>\n      <td>4.0</td>\n      <td>19</td>\n      <td>MI</td>\n    </tr>\n    <tr>\n      <th>[JASON, ZHENG]</th>\n      <td>40</td>\n      <td>49</td>\n      <td>23</td>\n      <td>41</td>\n      <td>28</td>\n      <td>2</td>\n      <td>9</td>\n      <td>1595</td>\n      <td>4.0</td>\n      <td>20</td>\n      <td>MI</td>\n    </tr>\n    <tr>\n      <th>[DINH, DANG, BUI]</th>\n      <td>43</td>\n      <td>1</td>\n      <td>47</td>\n      <td>3</td>\n      <td>40</td>\n      <td>39</td>\n      <td>6</td>\n      <td>1563</td>\n      <td>4.0</td>\n      <td>21</td>\n      <td>ON</td>\n    </tr>\n    <tr>\n      <th>[EUGENE, L, MCCLURE]</th>\n      <td>64</td>\n      <td>52</td>\n      <td>28</td>\n      <td>15</td>\n      <td>0</td>\n      <td>17</td>\n      <td>40</td>\n      <td>1555</td>\n      <td>4.0</td>\n      <td>22</td>\n      <td>MI</td>\n    </tr>\n    <tr>\n      <th>[ALAN, BUI]</th>\n      <td>4</td>\n      <td>43</td>\n      <td>20</td>\n      <td>58</td>\n      <td>17</td>\n      <td>37</td>\n      <td>46</td>\n      <td>1363</td>\n      <td>4.0</td>\n      <td>23</td>\n      <td>ON</td>\n    </tr>\n    <tr>\n      <th>[MICHAEL, R, ALDRICH]</th>\n      <td>28</td>\n      <td>47</td>\n      <td>43</td>\n      <td>25</td>\n      <td>60</td>\n      <td>44</td>\n      <td>39</td>\n      <td>1229</td>\n      <td>4.0</td>\n      <td>24</td>\n      <td>MI</td>\n    </tr>\n    <tr>\n      <th>[LOREN, SCHWIEBERT]</th>\n      <td>9</td>\n      <td>53</td>\n      <td>3</td>\n      <td>24</td>\n      <td>34</td>\n      <td>10</td>\n      <td>47</td>\n      <td>1745</td>\n      <td>3.5</td>\n      <td>25</td>\n      <td>MI</td>\n    </tr>\n    <tr>\n      <th>[MAX, ZHU]</th>\n      <td>49</td>\n      <td>40</td>\n      <td>17</td>\n      <td>4</td>\n      <td>9</td>\n      <td>32</td>\n      <td>11</td>\n      <td>1579</td>\n      <td>3.5</td>\n      <td>26</td>\n      <td>ON</td>\n    </tr>\n    <tr>\n      <th>[GAURAV, GIDWANI]</th>\n      <td>51</td>\n      <td>13</td>\n      <td>46</td>\n      <td>37</td>\n      <td>14</td>\n      <td>6</td>\n      <td>0</td>\n      <td>1552</td>\n      <td>3.5</td>\n      <td>27</td>\n      <td>MI</td>\n    </tr>\n    <tr>\n      <th>[SOFIA, ADINA, STANESCUBELLU]</th>\n      <td>24</td>\n      <td>4</td>\n      <td>22</td>\n      <td>19</td>\n      <td>20</td>\n      <td>8</td>\n      <td>36</td>\n      <td>1507</td>\n      <td>0.5</td>\n      <td>28</td>\n      <td>MI</td>\n    </tr>\n    <tr>\n      <th>[CHIEDOZIE, OKORIE]</th>\n      <td>50</td>\n      <td>6</td>\n      <td>38</td>\n      <td>34</td>\n      <td>52</td>\n      <td>48</td>\n      <td>0</td>\n      <td>1602</td>\n      <td>3.5</td>\n      <td>29</td>\n      <td>MI</td>\n    </tr>\n    <tr>\n      <th>[GEORGE, AVERY, JONES]</th>\n      <td>52</td>\n      <td>64</td>\n      <td>15</td>\n      <td>55</td>\n      <td>31</td>\n      <td>61</td>\n      <td>50</td>\n      <td>1522</td>\n      <td>3.5</td>\n      <td>30</td>\n      <td>ON</td>\n    </tr>\n    <tr>\n      <th>[RISHI, SHETTY]</th>\n      <td>58</td>\n      <td>55</td>\n      <td>64</td>\n      <td>10</td>\n      <td>30</td>\n      <td>50</td>\n      <td>14</td>\n      <td>1494</td>\n      <td>3.5</td>\n      <td>31</td>\n      <td>MI</td>\n    </tr>\n    <tr>\n      <th>[JOSHUA, PHILIP, MATHEWS]</th>\n      <td>61</td>\n      <td>8</td>\n      <td>44</td>\n      <td>18</td>\n      <td>51</td>\n      <td>26</td>\n      <td>13</td>\n      <td>1441</td>\n      <td>3.5</td>\n      <td>32</td>\n      <td>ON</td>\n    </tr>\n    <tr>\n      <th>[JADE, GE]</th>\n      <td>60</td>\n      <td>12</td>\n      <td>50</td>\n      <td>36</td>\n      <td>13</td>\n      <td>15</td>\n      <td>51</td>\n      <td>1449</td>\n      <td>3.5</td>\n      <td>33</td>\n      <td>MI</td>\n    </tr>\n    <tr>\n      <th>[MICHAEL, JEFFERY, THOMAS]</th>\n      <td>6</td>\n      <td>60</td>\n      <td>37</td>\n      <td>29</td>\n      <td>25</td>\n      <td>11</td>\n      <td>52</td>\n      <td>1399</td>\n      <td>3.5</td>\n      <td>34</td>\n      <td>MI</td>\n    </tr>\n    <tr>\n      <th>[JOSHUA, DAVID, LEE]</th>\n      <td>46</td>\n      <td>38</td>\n      <td>56</td>\n      <td>6</td>\n      <td>57</td>\n      <td>52</td>\n      <td>48</td>\n      <td>1438</td>\n      <td>3.5</td>\n      <td>35</td>\n      <td>MI</td>\n    </tr>\n    <tr>\n      <th>[SIDDHARTH, JHA]</th>\n      <td>13</td>\n      <td>57</td>\n      <td>51</td>\n      <td>33</td>\n      <td>0</td>\n      <td>16</td>\n      <td>28</td>\n      <td>1355</td>\n      <td>3.5</td>\n      <td>36</td>\n      <td>MI</td>\n    </tr>\n    <tr>\n      <th>[AMIYATOSH, PWNANANDAM]</th>\n      <td>0</td>\n      <td>5</td>\n      <td>34</td>\n      <td>27</td>\n      <td>0</td>\n      <td>23</td>\n      <td>61</td>\n      <td>980</td>\n      <td>3.5</td>\n      <td>37</td>\n      <td>MI</td>\n    </tr>\n    <tr>\n      <th>[BRIAN, LIU]</th>\n      <td>11</td>\n      <td>35</td>\n      <td>29</td>\n      <td>12</td>\n      <td>0</td>\n      <td>18</td>\n      <td>15</td>\n      <td>1423</td>\n      <td>3.0</td>\n      <td>38</td>\n      <td>MI</td>\n    </tr>\n    <tr>\n      <th>[JOEL, R, HENDON]</th>\n      <td>1</td>\n      <td>54</td>\n      <td>40</td>\n      <td>16</td>\n      <td>44</td>\n      <td>21</td>\n      <td>24</td>\n      <td>1436</td>\n      <td>3.0</td>\n      <td>39</td>\n      <td>MI</td>\n    </tr>\n    <tr>\n      <th>[FOREST, ZHANG]</th>\n      <td>20</td>\n      <td>26</td>\n      <td>39</td>\n      <td>59</td>\n      <td>21</td>\n      <td>56</td>\n      <td>22</td>\n      <td>1348</td>\n      <td>3.0</td>\n      <td>40</td>\n      <td>MI</td>\n    </tr>\n    <tr>\n      <th>[KYLE, WILLIAM, MURPHY]</th>\n      <td>59</td>\n      <td>17</td>\n      <td>58</td>\n      <td>20</td>\n      <td>0</td>\n      <td>0</td>\n      <td>0</td>\n      <td>1403</td>\n      <td>3.0</td>\n      <td>41</td>\n      <td>MI</td>\n    </tr>\n    <tr>\n      <th>[JARED, GE]</th>\n      <td>12</td>\n      <td>50</td>\n      <td>57</td>\n      <td>60</td>\n      <td>61</td>\n      <td>64</td>\n      <td>56</td>\n      <td>1332</td>\n      <td>3.0</td>\n      <td>42</td>\n      <td>MI</td>\n    </tr>\n    <tr>\n      <th>[ROBERT, GLEN, VASEY]</th>\n      <td>21</td>\n      <td>23</td>\n      <td>24</td>\n      <td>63</td>\n      <td>59</td>\n      <td>46</td>\n      <td>55</td>\n      <td>1283</td>\n      <td>3.0</td>\n      <td>43</td>\n      <td>MI</td>\n    </tr>\n    <tr>\n      <th>[JUSTIN, D, SCHILLING]</th>\n      <td>0</td>\n      <td>14</td>\n      <td>32</td>\n      <td>53</td>\n      <td>39</td>\n      <td>24</td>\n      <td>59</td>\n      <td>1199</td>\n      <td>3.0</td>\n      <td>44</td>\n      <td>MI</td>\n    </tr>\n    <tr>\n      <th>[DEREK, YAN]</th>\n      <td>5</td>\n      <td>51</td>\n      <td>60</td>\n      <td>56</td>\n      <td>63</td>\n      <td>55</td>\n      <td>58</td>\n      <td>1242</td>\n      <td>3.0</td>\n      <td>45</td>\n      <td>MI</td>\n    </tr>\n    <tr>\n      <th>[JACOB, ALEXANDER, LAVALLEY]</th>\n      <td>35</td>\n      <td>7</td>\n      <td>27</td>\n      <td>50</td>\n      <td>64</td>\n      <td>43</td>\n      <td>23</td>\n      <td>377</td>\n      <td>3.0</td>\n      <td>46</td>\n      <td>MI</td>\n    </tr>\n    <tr>\n      <th>[ERIC, WRIGHT]</th>\n      <td>18</td>\n      <td>24</td>\n      <td>21</td>\n      <td>61</td>\n      <td>8</td>\n      <td>51</td>\n      <td>25</td>\n      <td>1362</td>\n      <td>2.5</td>\n      <td>47</td>\n      <td>MI</td>\n    </tr>\n    <tr>\n      <th>[DANIEL, KHAIN]</th>\n      <td>17</td>\n      <td>63</td>\n      <td>0</td>\n      <td>52</td>\n      <td>0</td>\n      <td>29</td>\n      <td>35</td>\n      <td>1382</td>\n      <td>2.5</td>\n      <td>48</td>\n      <td>MI</td>\n    </tr>\n    <tr>\n      <th>[MICHAEL, J, MARTIN]</th>\n      <td>26</td>\n      <td>20</td>\n      <td>63</td>\n      <td>64</td>\n      <td>58</td>\n      <td>0</td>\n      <td>0</td>\n      <td>1291</td>\n      <td>2.5</td>\n      <td>49</td>\n      <td>MI</td>\n    </tr>\n    <tr>\n      <th>[SHIVAM, JHA]</th>\n      <td>29</td>\n      <td>42</td>\n      <td>33</td>\n      <td>46</td>\n      <td>0</td>\n      <td>31</td>\n      <td>30</td>\n      <td>1056</td>\n      <td>2.5</td>\n      <td>50</td>\n      <td>MI</td>\n    </tr>\n    <tr>\n      <th>[TEJAS, AYYAGARI]</th>\n      <td>27</td>\n      <td>45</td>\n      <td>36</td>\n      <td>57</td>\n      <td>32</td>\n      <td>47</td>\n      <td>33</td>\n      <td>1011</td>\n      <td>2.5</td>\n      <td>51</td>\n      <td>MI</td>\n    </tr>\n    <tr>\n      <th>[ETHAN, GUO]</th>\n      <td>30</td>\n      <td>22</td>\n      <td>19</td>\n      <td>48</td>\n      <td>29</td>\n      <td>35</td>\n      <td>34</td>\n      <td>935</td>\n      <td>2.5</td>\n      <td>52</td>\n      <td>MI</td>\n    </tr>\n    <tr>\n      <th>[JOSE, C, YBARRA]</th>\n      <td>0</td>\n      <td>25</td>\n      <td>0</td>\n      <td>44</td>\n      <td>0</td>\n      <td>57</td>\n      <td>0</td>\n      <td>1393</td>\n      <td>2.0</td>\n      <td>53</td>\n      <td>MI</td>\n    </tr>\n    <tr>\n      <th>[LARRY, HODGE]</th>\n      <td>14</td>\n      <td>39</td>\n      <td>61</td>\n      <td>0</td>\n      <td>15</td>\n      <td>59</td>\n      <td>64</td>\n      <td>1270</td>\n      <td>2.0</td>\n      <td>54</td>\n      <td>MI</td>\n    </tr>\n    <tr>\n      <th>[ALEX, KONG]</th>\n      <td>62</td>\n      <td>31</td>\n      <td>10</td>\n      <td>30</td>\n      <td>0</td>\n      <td>45</td>\n      <td>43</td>\n      <td>1186</td>\n      <td>2.0</td>\n      <td>55</td>\n      <td>MI</td>\n    </tr>\n    <tr>\n      <th>[MARISA, RICCI]</th>\n      <td>0</td>\n      <td>11</td>\n      <td>35</td>\n      <td>45</td>\n      <td>0</td>\n      <td>40</td>\n      <td>42</td>\n      <td>1153</td>\n      <td>2.0</td>\n      <td>56</td>\n      <td>MI</td>\n    </tr>\n    <tr>\n      <th>[MICHAEL, LU]</th>\n      <td>7</td>\n      <td>36</td>\n      <td>42</td>\n      <td>51</td>\n      <td>35</td>\n      <td>53</td>\n      <td>0</td>\n      <td>1092</td>\n      <td>2.0</td>\n      <td>57</td>\n      <td>MI</td>\n    </tr>\n    <tr>\n      <th>[VIRAJ, MOHILE]</th>\n      <td>31</td>\n      <td>2</td>\n      <td>41</td>\n      <td>23</td>\n      <td>49</td>\n      <td>0</td>\n      <td>45</td>\n      <td>917</td>\n      <td>2.0</td>\n      <td>58</td>\n      <td>MI</td>\n    </tr>\n    <tr>\n      <th>[SEAN, M, MC, CORMICK]</th>\n      <td>41</td>\n      <td>0</td>\n      <td>9</td>\n      <td>40</td>\n      <td>43</td>\n      <td>54</td>\n      <td>44</td>\n      <td>853</td>\n      <td>2.0</td>\n      <td>59</td>\n      <td>MI</td>\n    </tr>\n    <tr>\n      <th>[JULIA, SHEN]</th>\n      <td>33</td>\n      <td>34</td>\n      <td>45</td>\n      <td>42</td>\n      <td>24</td>\n      <td>0</td>\n      <td>0</td>\n      <td>967</td>\n      <td>1.5</td>\n      <td>60</td>\n      <td>MI</td>\n    </tr>\n    <tr>\n      <th>[JEZZEL, FARKAS]</th>\n      <td>32</td>\n      <td>3</td>\n      <td>54</td>\n      <td>47</td>\n      <td>42</td>\n      <td>30</td>\n      <td>37</td>\n      <td>955</td>\n      <td>1.5</td>\n      <td>61</td>\n      <td>ON</td>\n    </tr>\n    <tr>\n      <th>[ASHWIN, BALAJI]</th>\n      <td>55</td>\n      <td>0</td>\n      <td>0</td>\n      <td>0</td>\n      <td>0</td>\n      <td>0</td>\n      <td>0</td>\n      <td>1530</td>\n      <td>1.0</td>\n      <td>62</td>\n      <td>MI</td>\n    </tr>\n    <tr>\n      <th>[THOMAS, JOSEPH, HOSMER]</th>\n      <td>2</td>\n      <td>48</td>\n      <td>49</td>\n      <td>43</td>\n      <td>45</td>\n      <td>0</td>\n      <td>0</td>\n      <td>1175</td>\n      <td>1.0</td>\n      <td>63</td>\n      <td>MI</td>\n    </tr>\n    <tr>\n      <th>[BEN, LI]</th>\n      <td>22</td>\n      <td>30</td>\n      <td>31</td>\n      <td>49</td>\n      <td>46</td>\n      <td>42</td>\n      <td>54</td>\n      <td>1163</td>\n      <td>1.0</td>\n      <td>64</td>\n      <td>MI</td>\n    </tr>\n  </tbody>\n</table>\n</div>"
     },
     "execution_count": 1046,
     "metadata": {},
     "output_type": "execute_result"
    }
   ],
   "source": [
    "chess_df.set_index(['Player_Names'])"
   ],
   "metadata": {
    "collapsed": false,
    "pycharm": {
     "name": "#%%\n"
    }
   }
  },
  {
   "cell_type": "markdown",
   "source": [
    "#### The dataset has been cleaned! Now we can focus on analyzing the data to calculate player average and format the dataset to feature only Player’s Name, Player’s State, Total Number of Points, Player’s Pre-Rating, and Average Pre Tournament Chess Rating of Opponents."
   ],
   "metadata": {
    "collapsed": false,
    "pycharm": {
     "name": "#%% md\n"
    }
   }
  },
  {
   "cell_type": "code",
   "execution_count": 1047,
   "outputs": [
    {
     "data": {
      "text/plain": "Round1  Round2  Round3  Round4  Round5  Round6  Round7\n39      21      18      14      7       12      4         1794 \n63      58      4       17      16      20      7         1553 \n8       61      25      21      11      13      12        1384 \n23      28      2       26      5       19      1         1716 \n45      37      12      13      4       14      17        1655 \n34      29      11      35      10      27      21        1686 \n57      46      13      11      1       9       2         1649 \n3       32      14      9       47      28      19        1641 \n25      18      59      8       26      7       20        1411 \n16      19      55      31      6       25      18        1365 \n38      56      6       7       3       34      26        1712 \n42      33      5       38      0       1       3         1663 \n36      27      7       5       33      3       32        1666 \n54      44      8       1       27      5       31        1610 \n19      16      30      22      54      33      38        1220 \n10      15      0       39      2       36      0         1604 \n48      41      26      2       23      22      5         1629 \n47      9       1       32      19      38      10        1600 \n15      10      52      28      18      4       8         1564 \n40      49      23      41      28      2       9         1595 \n43      1       47      3       40      39      6         1563 \n64      52      28      15      0       17      40        1555 \n4       43      20      58      17      37      46        1363 \n28      47      43      25      60      44      39        1229 \n9       53      3       24      34      10      47        1745 \n49      40      17      4       9       32      11        1579 \n51      13      46      37      14      6       0         1552 \n24      4       22      19      20      8       36        1507 \n50      6       38      34      52      48      0         1602 \n52      64      15      55      31      61      50        1522 \n58      55      64      10      30      50      14        1494 \n61      8       44      18      51      26      13        1441 \n60      12      50      36      13      15      51        1449 \n6       60      37      29      25      11      52        1399 \n46      38      56      6       57      52      48        1438 \n13      57      51      33      0       16      28        1355 \n0       5       34      27      0       23      61         980 \n11      35      29      12      0       18      15        1423 \n1       54      40      16      44      21      24        1436 \n20      26      39      59      21      56      22        1348 \n59      17      58      20      0       0       0         1403 \n12      50      57      60      61      64      56        1332 \n21      23      24      63      59      46      55        1283 \n0       14      32      53      39      24      59        1199 \n5       51      60      56      63      55      58        1242 \n35      7       27      50      64      43      23         377 \n18      24      21      61      8       51      25        1362 \n17      63      0       52      0       29      35        1382 \n26      20      63      64      58      0       0         1291 \n29      42      33      46      0       31      30        1056 \n27      45      36      57      32      47      33        1011 \n30      22      19      48      29      35      34         935 \n0       25      0       44      0       57      0         1393 \n14      39      61      0       15      59      64        1270 \n62      31      10      30      0       45      43        1186 \n0       11      35      45      0       40      42        1153 \n7       36      42      51      35      53      0         1092 \n31      2       41      23      49      0       45         917 \n41      0       9       40      43      54      44         853 \n33      34      45      42      24      0       0          967 \n32      3       54      47      42      30      37         955 \n55      0       0       0       0       0       0         1530 \n2       48      49      43      45      0       0         1175 \n22      30      31      49      46      42      54        1163 \nName: Ratings, dtype: object"
     },
     "execution_count": 1047,
     "metadata": {},
     "output_type": "execute_result"
    }
   ],
   "source": [
    "# For point average all 7 rounds will need to be pulled.\n",
    "#https://www.geeksforgeeks.org/select-rows-columns-by-name-or-index-in-pandas-dataframe-using-loc-iloc/\n",
    "chess_df.set_index(['Round1', 'Round2', 'Round3', 'Round4', 'Round5', 'Round6', 'Round7'])['Ratings']"
   ],
   "metadata": {
    "collapsed": false,
    "pycharm": {
     "name": "#%%\n"
    }
   }
  },
  {
   "cell_type": "markdown",
   "source": [
    "#### Great, now let's calculate the average for row."
   ],
   "metadata": {
    "collapsed": false,
    "pycharm": {
     "name": "#%% md\n"
    }
   }
  },
  {
   "cell_type": "code",
   "execution_count": 1048,
   "outputs": [],
   "source": [
    "#Reference websites:\n",
    "#https://cmdlinetips.com/2018/12/how-to-loop-through-pandas-rows-or-how-to-iterate-over-pandas-rows/\n",
    "def parse_series(series):\n",
    "    player_mapping = {}\n",
    "    average_rating = []\n",
    "    for index, row in series.iterrows():\n",
    "        player_mapping[int(row['Player_ID'])] = int(row['Ratings'])\n",
    "    for index, row in series.iterrows():\n",
    "        if row[0] is not None:\n",
    "            try:\n",
    "                key1 = int(row.Round1)\n",
    "                row.Round1 = player_mapping[key1]\n",
    "\n",
    "                key2 = int(row.Round2)\n",
    "                row.Round2 = player_mapping[key2]\n",
    "\n",
    "                key3 = int(row.Round3)\n",
    "                row.Round3 = player_mapping[key3]\n",
    "\n",
    "                key4 = int(row.Round4)\n",
    "                row.Round4 = player_mapping[key4]\n",
    "\n",
    "                key5 = int(row.Round5)\n",
    "                row.Round5 = player_mapping[key5]\n",
    "\n",
    "                key6 = int(row.Round6)\n",
    "                row.Round6 = player_mapping[key6]\n",
    "\n",
    "                key7 = int(row.Round7)\n",
    "                row.Round7 = player_mapping[key7]\n",
    "\n",
    "                total = row.Round1 + row.Round2 + row.Round3 + row.Round4 + row.Round5 + row.Round6 + row.Round7\n",
    "                games = len([row.Round1, row.Round2, row.Round3, row.Round4, row.Round5, row.Round6, row.Round7])\n",
    "                average_rating.append(total/games)\n",
    "            except KeyError:\n",
    "                total = int(row.Round1) + int(row.Round2) + int(row.Round3) + int(row.Round4) + int(row.Round5) + int(row.Round6) + int(row.Round7)\n",
    "                games = len([row.Round1, row.Round2, row.Round3, row.Round4, row.Round5, row.Round6, row.Round7])\n",
    "                average_rating.append(total/games)\n",
    "    return average_rating"
   ],
   "metadata": {
    "collapsed": false,
    "pycharm": {
     "name": "#%%\n"
    }
   }
  },
  {
   "cell_type": "code",
   "execution_count": 1049,
   "outputs": [],
   "source": [
    "# For the information to be displayed we need to call the parse function\n",
    "average_rate = parse_series(chess_df)\n",
    "#add a column to host the values for average rating\n",
    "chess_df['Average_Rating'] = [n for n in average_rate]"
   ],
   "metadata": {
    "collapsed": false,
    "pycharm": {
     "name": "#%%\n"
    }
   }
  },
  {
   "cell_type": "markdown",
   "source": [
    "#### All data should now successfully be within the datafram. Now we will pull out Player’s Name, Player’s State, Total Number of Points, Player’s Pre-Rating, and Average Pre Tournament Chess Rating of Opponents and save to a CSV file.\n"
   ],
   "metadata": {
    "collapsed": false,
    "pycharm": {
     "name": "#%% md\n"
    }
   }
  },
  {
   "cell_type": "code",
   "execution_count": 1050,
   "outputs": [
    {
     "data": {
      "text/plain": "   Round1 Round2 Round3 Round4 Round5 Round6 Round7 Ratings  Total_Points  \\\n1      39     21     18     14      7     12      4   1794            6.0   \n2      63     58      4     17     16     20      7   1553            6.0   \n3       8     61     25     21     11     13     12   1384            6.0   \n4      23     28      2     26      5     19      1   1716            5.5   \n5      45     37     12     13      4     14     17   1655            5.5   \n\n   Player_ID State             Player_Names  Average_Rating  \n1         1    ON               [GARY, HUA]     1605.285714  \n2         2    MI        [DAKSHESH, DARURI]     1469.285714  \n3         3    MI           [ADITYA, BAJAJ]     1563.571429  \n4         4    MI   [PATRICK, H, SCHILLING]     1573.571429  \n5         5    MI             [HANSHI, ZUO]     1500.857143  ",
      "text/html": "<div>\n<style scoped>\n    .dataframe tbody tr th:only-of-type {\n        vertical-align: middle;\n    }\n\n    .dataframe tbody tr th {\n        vertical-align: top;\n    }\n\n    .dataframe thead th {\n        text-align: right;\n    }\n</style>\n<table border=\"1\" class=\"dataframe\">\n  <thead>\n    <tr style=\"text-align: right;\">\n      <th></th>\n      <th>Round1</th>\n      <th>Round2</th>\n      <th>Round3</th>\n      <th>Round4</th>\n      <th>Round5</th>\n      <th>Round6</th>\n      <th>Round7</th>\n      <th>Ratings</th>\n      <th>Total_Points</th>\n      <th>Player_ID</th>\n      <th>State</th>\n      <th>Player_Names</th>\n      <th>Average_Rating</th>\n    </tr>\n  </thead>\n  <tbody>\n    <tr>\n      <th>1</th>\n      <td>39</td>\n      <td>21</td>\n      <td>18</td>\n      <td>14</td>\n      <td>7</td>\n      <td>12</td>\n      <td>4</td>\n      <td>1794</td>\n      <td>6.0</td>\n      <td>1</td>\n      <td>ON</td>\n      <td>[GARY, HUA]</td>\n      <td>1605.285714</td>\n    </tr>\n    <tr>\n      <th>2</th>\n      <td>63</td>\n      <td>58</td>\n      <td>4</td>\n      <td>17</td>\n      <td>16</td>\n      <td>20</td>\n      <td>7</td>\n      <td>1553</td>\n      <td>6.0</td>\n      <td>2</td>\n      <td>MI</td>\n      <td>[DAKSHESH, DARURI]</td>\n      <td>1469.285714</td>\n    </tr>\n    <tr>\n      <th>3</th>\n      <td>8</td>\n      <td>61</td>\n      <td>25</td>\n      <td>21</td>\n      <td>11</td>\n      <td>13</td>\n      <td>12</td>\n      <td>1384</td>\n      <td>6.0</td>\n      <td>3</td>\n      <td>MI</td>\n      <td>[ADITYA, BAJAJ]</td>\n      <td>1563.571429</td>\n    </tr>\n    <tr>\n      <th>4</th>\n      <td>23</td>\n      <td>28</td>\n      <td>2</td>\n      <td>26</td>\n      <td>5</td>\n      <td>19</td>\n      <td>1</td>\n      <td>1716</td>\n      <td>5.5</td>\n      <td>4</td>\n      <td>MI</td>\n      <td>[PATRICK, H, SCHILLING]</td>\n      <td>1573.571429</td>\n    </tr>\n    <tr>\n      <th>5</th>\n      <td>45</td>\n      <td>37</td>\n      <td>12</td>\n      <td>13</td>\n      <td>4</td>\n      <td>14</td>\n      <td>17</td>\n      <td>1655</td>\n      <td>5.5</td>\n      <td>5</td>\n      <td>MI</td>\n      <td>[HANSHI, ZUO]</td>\n      <td>1500.857143</td>\n    </tr>\n  </tbody>\n</table>\n</div>"
     },
     "execution_count": 1050,
     "metadata": {},
     "output_type": "execute_result"
    }
   ],
   "source": [
    "chess_df.head(5)"
   ],
   "metadata": {
    "collapsed": false,
    "pycharm": {
     "name": "#%%\n"
    }
   }
  },
  {
   "cell_type": "code",
   "execution_count": 1051,
   "outputs": [
    {
     "name": "stderr",
     "output_type": "stream",
     "text": [
      "C:\\Users\\HP\\AppData\\Local\\Temp\\ipykernel_5736\\3991042833.py:1: FutureWarning: Passing a set as an indexer is deprecated and will raise in a future version. Use a list instead.\n",
      "  Chess_df = chess_df[{'Average_Rating','Ratings','Total_Points','State','Player_Names'}]\n"
     ]
    }
   ],
   "source": [
    "Chess_df = chess_df[{'Average_Rating','Ratings','Total_Points','State','Player_Names'}]"
   ],
   "metadata": {
    "collapsed": false,
    "pycharm": {
     "name": "#%%\n"
    }
   }
  },
  {
   "cell_type": "code",
   "execution_count": 1052,
   "outputs": [
    {
     "data": {
      "text/plain": "     Total_Points                   Player_Names  Average_Rating Ratings State\n1             6.0                    [GARY, HUA]     1605.285714   1794    ON \n2             6.0             [DAKSHESH, DARURI]     1469.285714   1553    MI \n3             6.0                [ADITYA, BAJAJ]     1563.571429   1384    MI \n4             5.5        [PATRICK, H, SCHILLING]     1573.571429   1716    MI \n5             5.5                  [HANSHI, ZUO]     1500.857143   1655    MI \n6             5.0                 [HANSEN, SONG]     1518.714286   1686    OH \n7             5.0          [GARY, DEE, SWATHELL]     1372.142857   1649    MI \n8             5.0            [EZEKIEL, HOUGHTON]     1468.428571   1641    MI \n9             5.0                 [STEFANO, LEE]     1523.142857   1411    ON \n10            5.0                   [ANVIT, RAO]     1554.142857   1365    MI \n11            4.5  [CAMERON, WILLIAM, MC, LEMAN]     1467.571429   1712    MI \n12            4.5             [KENNETH, J, TACK]      837.571429   1663    MI \n13            4.5          [TORRANCE, HENRY, JR]     1497.857143   1666    MI \n14            4.5                [BRADLEY, SHAW]     1515.000000   1610    MI \n15            4.5     [ZACHARY, JAMES, HOUGHTON]     1483.857143   1220    MI \n16            4.0                [MIKE, NIKITIN]      380.285714   1604    MI \n17            4.0          [RONALD, GRZEGORCZYK]     1498.571429   1629    MI \n18            4.0               [DAVID, SUNDEEN]     1480.000000   1600    MI \n19            4.0                [DIPANKAR, ROY]     1426.285714   1564    MI \n20            4.0                 [JASON, ZHENG]     1410.857143   1595    MI \n21            4.0              [DINH, DANG, BUI]     1470.428571   1563    ON \n22            4.0           [EUGENE, L, MCCLURE]      697.428571   1555    MI \n23            4.0                    [ALAN, BUI]     1213.857143   1363    ON \n24            4.0          [MICHAEL, R, ALDRICH]     1357.000000   1229    MI \n25            3.5            [LOREN, SCHWIEBERT]     1363.285714   1745    MI \n26            3.5                     [MAX, ZHU]     1506.857143   1579    ON \n27            3.5              [GAURAV, GIDWANI]     1047.142857   1552    MI \n28            0.5  [SOFIA, ADINA, STANESCUBELLU]     1522.142857   1507    MI \n29            3.5            [CHIEDOZIE, OKORIE]     1125.857143   1602    MI \n30            3.5         [GEORGE, AVERY, JONES]     1144.142857   1522    ON \n31            3.5                [RISHI, SHETTY]     1259.857143   1494    MI \n32            3.5      [JOSHUA, PHILIP, MATHEWS]     1378.714286   1441    ON \n33            3.5                     [JADE, GE]     1276.857143   1449    MI \n34            3.5     [MICHAEL, JEFFERY, THOMAS]     1375.285714   1399    MI \n35            3.5           [JOSHUA, DAVID, LEE]     1149.714286   1438    MI \n36            3.5               [SIDDHARTH, JHA]      751.714286   1355    MI \n37            3.5        [AMIYATOSH, PWNANANDAM]       21.428571    980    MI \n38            3.0                   [BRIAN, LIU]      921.142857   1423    MI \n39            3.0              [JOEL, R, HENDON]     1429.571429   1436    MI \n40            3.0                [FOREST, ZHANG]     1390.571429   1348    MI \n41            3.0        [KYLE, WILLIAM, MURPHY]      713.428571   1403    MI \n42            3.0                    [JARED, GE]     1149.857143   1332    MI \n43            3.0          [ROBERT, GLEN, VASEY]     1106.571429   1283    MI \n44            3.0         [JUSTIN, D, SCHILLING]       31.571429   1199    MI \n45            3.0                   [DEREK, YAN]     1152.000000   1242    MI \n46            3.0   [JACOB, ALEXANDER, LAVALLEY]     1357.714286    377    MI \n47            2.5                 [ERIC, WRIGHT]     1392.000000   1362    MI \n48            2.5                [DANIEL, KHAIN]      417.142857   1382    MI \n49            2.5           [MICHAEL, J, MARTIN]      918.428571   1291    MI \n50            2.5                  [SHIVAM, JHA]      688.714286   1056    MI \n51            2.5              [TEJAS, AYYAGARI]     1356.142857   1011    MI \n52            2.5                   [ETHAN, GUO]     1494.571429    935    MI \n53            2.0              [JOSE, C, YBARRA]       18.000000   1393    MI \n54            2.0                 [LARRY, HODGE]      591.285714   1270    MI \n55            2.0                   [ALEX, KONG]      857.000000   1186    MI \n56            2.0                [MARISA, RICCI]       24.714286   1153    MI \n57            2.0                  [MICHAEL, LU]     1168.285714   1092    MI \n58            2.0                [VIRAJ, MOHILE]     1021.285714    917    MI \n59            2.0         [SEAN, M, MC, CORMICK]      227.571429    853    MI \n60            1.5                  [JULIA, SHEN]      950.142857    967    MI \n61            1.5               [JEZZEL, FARKAS]     1327.285714    955    ON \n62            1.0               [ASHWIN, BALAJI]      169.428571   1530    MI \n63            1.0       [THOMAS, JOSEPH, HOSMER]      964.428571   1175    MI \n64            1.0                      [BEN, LI]     1263.000000   1163    MI ",
      "text/html": "<div>\n<style scoped>\n    .dataframe tbody tr th:only-of-type {\n        vertical-align: middle;\n    }\n\n    .dataframe tbody tr th {\n        vertical-align: top;\n    }\n\n    .dataframe thead th {\n        text-align: right;\n    }\n</style>\n<table border=\"1\" class=\"dataframe\">\n  <thead>\n    <tr style=\"text-align: right;\">\n      <th></th>\n      <th>Total_Points</th>\n      <th>Player_Names</th>\n      <th>Average_Rating</th>\n      <th>Ratings</th>\n      <th>State</th>\n    </tr>\n  </thead>\n  <tbody>\n    <tr>\n      <th>1</th>\n      <td>6.0</td>\n      <td>[GARY, HUA]</td>\n      <td>1605.285714</td>\n      <td>1794</td>\n      <td>ON</td>\n    </tr>\n    <tr>\n      <th>2</th>\n      <td>6.0</td>\n      <td>[DAKSHESH, DARURI]</td>\n      <td>1469.285714</td>\n      <td>1553</td>\n      <td>MI</td>\n    </tr>\n    <tr>\n      <th>3</th>\n      <td>6.0</td>\n      <td>[ADITYA, BAJAJ]</td>\n      <td>1563.571429</td>\n      <td>1384</td>\n      <td>MI</td>\n    </tr>\n    <tr>\n      <th>4</th>\n      <td>5.5</td>\n      <td>[PATRICK, H, SCHILLING]</td>\n      <td>1573.571429</td>\n      <td>1716</td>\n      <td>MI</td>\n    </tr>\n    <tr>\n      <th>5</th>\n      <td>5.5</td>\n      <td>[HANSHI, ZUO]</td>\n      <td>1500.857143</td>\n      <td>1655</td>\n      <td>MI</td>\n    </tr>\n    <tr>\n      <th>6</th>\n      <td>5.0</td>\n      <td>[HANSEN, SONG]</td>\n      <td>1518.714286</td>\n      <td>1686</td>\n      <td>OH</td>\n    </tr>\n    <tr>\n      <th>7</th>\n      <td>5.0</td>\n      <td>[GARY, DEE, SWATHELL]</td>\n      <td>1372.142857</td>\n      <td>1649</td>\n      <td>MI</td>\n    </tr>\n    <tr>\n      <th>8</th>\n      <td>5.0</td>\n      <td>[EZEKIEL, HOUGHTON]</td>\n      <td>1468.428571</td>\n      <td>1641</td>\n      <td>MI</td>\n    </tr>\n    <tr>\n      <th>9</th>\n      <td>5.0</td>\n      <td>[STEFANO, LEE]</td>\n      <td>1523.142857</td>\n      <td>1411</td>\n      <td>ON</td>\n    </tr>\n    <tr>\n      <th>10</th>\n      <td>5.0</td>\n      <td>[ANVIT, RAO]</td>\n      <td>1554.142857</td>\n      <td>1365</td>\n      <td>MI</td>\n    </tr>\n    <tr>\n      <th>11</th>\n      <td>4.5</td>\n      <td>[CAMERON, WILLIAM, MC, LEMAN]</td>\n      <td>1467.571429</td>\n      <td>1712</td>\n      <td>MI</td>\n    </tr>\n    <tr>\n      <th>12</th>\n      <td>4.5</td>\n      <td>[KENNETH, J, TACK]</td>\n      <td>837.571429</td>\n      <td>1663</td>\n      <td>MI</td>\n    </tr>\n    <tr>\n      <th>13</th>\n      <td>4.5</td>\n      <td>[TORRANCE, HENRY, JR]</td>\n      <td>1497.857143</td>\n      <td>1666</td>\n      <td>MI</td>\n    </tr>\n    <tr>\n      <th>14</th>\n      <td>4.5</td>\n      <td>[BRADLEY, SHAW]</td>\n      <td>1515.000000</td>\n      <td>1610</td>\n      <td>MI</td>\n    </tr>\n    <tr>\n      <th>15</th>\n      <td>4.5</td>\n      <td>[ZACHARY, JAMES, HOUGHTON]</td>\n      <td>1483.857143</td>\n      <td>1220</td>\n      <td>MI</td>\n    </tr>\n    <tr>\n      <th>16</th>\n      <td>4.0</td>\n      <td>[MIKE, NIKITIN]</td>\n      <td>380.285714</td>\n      <td>1604</td>\n      <td>MI</td>\n    </tr>\n    <tr>\n      <th>17</th>\n      <td>4.0</td>\n      <td>[RONALD, GRZEGORCZYK]</td>\n      <td>1498.571429</td>\n      <td>1629</td>\n      <td>MI</td>\n    </tr>\n    <tr>\n      <th>18</th>\n      <td>4.0</td>\n      <td>[DAVID, SUNDEEN]</td>\n      <td>1480.000000</td>\n      <td>1600</td>\n      <td>MI</td>\n    </tr>\n    <tr>\n      <th>19</th>\n      <td>4.0</td>\n      <td>[DIPANKAR, ROY]</td>\n      <td>1426.285714</td>\n      <td>1564</td>\n      <td>MI</td>\n    </tr>\n    <tr>\n      <th>20</th>\n      <td>4.0</td>\n      <td>[JASON, ZHENG]</td>\n      <td>1410.857143</td>\n      <td>1595</td>\n      <td>MI</td>\n    </tr>\n    <tr>\n      <th>21</th>\n      <td>4.0</td>\n      <td>[DINH, DANG, BUI]</td>\n      <td>1470.428571</td>\n      <td>1563</td>\n      <td>ON</td>\n    </tr>\n    <tr>\n      <th>22</th>\n      <td>4.0</td>\n      <td>[EUGENE, L, MCCLURE]</td>\n      <td>697.428571</td>\n      <td>1555</td>\n      <td>MI</td>\n    </tr>\n    <tr>\n      <th>23</th>\n      <td>4.0</td>\n      <td>[ALAN, BUI]</td>\n      <td>1213.857143</td>\n      <td>1363</td>\n      <td>ON</td>\n    </tr>\n    <tr>\n      <th>24</th>\n      <td>4.0</td>\n      <td>[MICHAEL, R, ALDRICH]</td>\n      <td>1357.000000</td>\n      <td>1229</td>\n      <td>MI</td>\n    </tr>\n    <tr>\n      <th>25</th>\n      <td>3.5</td>\n      <td>[LOREN, SCHWIEBERT]</td>\n      <td>1363.285714</td>\n      <td>1745</td>\n      <td>MI</td>\n    </tr>\n    <tr>\n      <th>26</th>\n      <td>3.5</td>\n      <td>[MAX, ZHU]</td>\n      <td>1506.857143</td>\n      <td>1579</td>\n      <td>ON</td>\n    </tr>\n    <tr>\n      <th>27</th>\n      <td>3.5</td>\n      <td>[GAURAV, GIDWANI]</td>\n      <td>1047.142857</td>\n      <td>1552</td>\n      <td>MI</td>\n    </tr>\n    <tr>\n      <th>28</th>\n      <td>0.5</td>\n      <td>[SOFIA, ADINA, STANESCUBELLU]</td>\n      <td>1522.142857</td>\n      <td>1507</td>\n      <td>MI</td>\n    </tr>\n    <tr>\n      <th>29</th>\n      <td>3.5</td>\n      <td>[CHIEDOZIE, OKORIE]</td>\n      <td>1125.857143</td>\n      <td>1602</td>\n      <td>MI</td>\n    </tr>\n    <tr>\n      <th>30</th>\n      <td>3.5</td>\n      <td>[GEORGE, AVERY, JONES]</td>\n      <td>1144.142857</td>\n      <td>1522</td>\n      <td>ON</td>\n    </tr>\n    <tr>\n      <th>31</th>\n      <td>3.5</td>\n      <td>[RISHI, SHETTY]</td>\n      <td>1259.857143</td>\n      <td>1494</td>\n      <td>MI</td>\n    </tr>\n    <tr>\n      <th>32</th>\n      <td>3.5</td>\n      <td>[JOSHUA, PHILIP, MATHEWS]</td>\n      <td>1378.714286</td>\n      <td>1441</td>\n      <td>ON</td>\n    </tr>\n    <tr>\n      <th>33</th>\n      <td>3.5</td>\n      <td>[JADE, GE]</td>\n      <td>1276.857143</td>\n      <td>1449</td>\n      <td>MI</td>\n    </tr>\n    <tr>\n      <th>34</th>\n      <td>3.5</td>\n      <td>[MICHAEL, JEFFERY, THOMAS]</td>\n      <td>1375.285714</td>\n      <td>1399</td>\n      <td>MI</td>\n    </tr>\n    <tr>\n      <th>35</th>\n      <td>3.5</td>\n      <td>[JOSHUA, DAVID, LEE]</td>\n      <td>1149.714286</td>\n      <td>1438</td>\n      <td>MI</td>\n    </tr>\n    <tr>\n      <th>36</th>\n      <td>3.5</td>\n      <td>[SIDDHARTH, JHA]</td>\n      <td>751.714286</td>\n      <td>1355</td>\n      <td>MI</td>\n    </tr>\n    <tr>\n      <th>37</th>\n      <td>3.5</td>\n      <td>[AMIYATOSH, PWNANANDAM]</td>\n      <td>21.428571</td>\n      <td>980</td>\n      <td>MI</td>\n    </tr>\n    <tr>\n      <th>38</th>\n      <td>3.0</td>\n      <td>[BRIAN, LIU]</td>\n      <td>921.142857</td>\n      <td>1423</td>\n      <td>MI</td>\n    </tr>\n    <tr>\n      <th>39</th>\n      <td>3.0</td>\n      <td>[JOEL, R, HENDON]</td>\n      <td>1429.571429</td>\n      <td>1436</td>\n      <td>MI</td>\n    </tr>\n    <tr>\n      <th>40</th>\n      <td>3.0</td>\n      <td>[FOREST, ZHANG]</td>\n      <td>1390.571429</td>\n      <td>1348</td>\n      <td>MI</td>\n    </tr>\n    <tr>\n      <th>41</th>\n      <td>3.0</td>\n      <td>[KYLE, WILLIAM, MURPHY]</td>\n      <td>713.428571</td>\n      <td>1403</td>\n      <td>MI</td>\n    </tr>\n    <tr>\n      <th>42</th>\n      <td>3.0</td>\n      <td>[JARED, GE]</td>\n      <td>1149.857143</td>\n      <td>1332</td>\n      <td>MI</td>\n    </tr>\n    <tr>\n      <th>43</th>\n      <td>3.0</td>\n      <td>[ROBERT, GLEN, VASEY]</td>\n      <td>1106.571429</td>\n      <td>1283</td>\n      <td>MI</td>\n    </tr>\n    <tr>\n      <th>44</th>\n      <td>3.0</td>\n      <td>[JUSTIN, D, SCHILLING]</td>\n      <td>31.571429</td>\n      <td>1199</td>\n      <td>MI</td>\n    </tr>\n    <tr>\n      <th>45</th>\n      <td>3.0</td>\n      <td>[DEREK, YAN]</td>\n      <td>1152.000000</td>\n      <td>1242</td>\n      <td>MI</td>\n    </tr>\n    <tr>\n      <th>46</th>\n      <td>3.0</td>\n      <td>[JACOB, ALEXANDER, LAVALLEY]</td>\n      <td>1357.714286</td>\n      <td>377</td>\n      <td>MI</td>\n    </tr>\n    <tr>\n      <th>47</th>\n      <td>2.5</td>\n      <td>[ERIC, WRIGHT]</td>\n      <td>1392.000000</td>\n      <td>1362</td>\n      <td>MI</td>\n    </tr>\n    <tr>\n      <th>48</th>\n      <td>2.5</td>\n      <td>[DANIEL, KHAIN]</td>\n      <td>417.142857</td>\n      <td>1382</td>\n      <td>MI</td>\n    </tr>\n    <tr>\n      <th>49</th>\n      <td>2.5</td>\n      <td>[MICHAEL, J, MARTIN]</td>\n      <td>918.428571</td>\n      <td>1291</td>\n      <td>MI</td>\n    </tr>\n    <tr>\n      <th>50</th>\n      <td>2.5</td>\n      <td>[SHIVAM, JHA]</td>\n      <td>688.714286</td>\n      <td>1056</td>\n      <td>MI</td>\n    </tr>\n    <tr>\n      <th>51</th>\n      <td>2.5</td>\n      <td>[TEJAS, AYYAGARI]</td>\n      <td>1356.142857</td>\n      <td>1011</td>\n      <td>MI</td>\n    </tr>\n    <tr>\n      <th>52</th>\n      <td>2.5</td>\n      <td>[ETHAN, GUO]</td>\n      <td>1494.571429</td>\n      <td>935</td>\n      <td>MI</td>\n    </tr>\n    <tr>\n      <th>53</th>\n      <td>2.0</td>\n      <td>[JOSE, C, YBARRA]</td>\n      <td>18.000000</td>\n      <td>1393</td>\n      <td>MI</td>\n    </tr>\n    <tr>\n      <th>54</th>\n      <td>2.0</td>\n      <td>[LARRY, HODGE]</td>\n      <td>591.285714</td>\n      <td>1270</td>\n      <td>MI</td>\n    </tr>\n    <tr>\n      <th>55</th>\n      <td>2.0</td>\n      <td>[ALEX, KONG]</td>\n      <td>857.000000</td>\n      <td>1186</td>\n      <td>MI</td>\n    </tr>\n    <tr>\n      <th>56</th>\n      <td>2.0</td>\n      <td>[MARISA, RICCI]</td>\n      <td>24.714286</td>\n      <td>1153</td>\n      <td>MI</td>\n    </tr>\n    <tr>\n      <th>57</th>\n      <td>2.0</td>\n      <td>[MICHAEL, LU]</td>\n      <td>1168.285714</td>\n      <td>1092</td>\n      <td>MI</td>\n    </tr>\n    <tr>\n      <th>58</th>\n      <td>2.0</td>\n      <td>[VIRAJ, MOHILE]</td>\n      <td>1021.285714</td>\n      <td>917</td>\n      <td>MI</td>\n    </tr>\n    <tr>\n      <th>59</th>\n      <td>2.0</td>\n      <td>[SEAN, M, MC, CORMICK]</td>\n      <td>227.571429</td>\n      <td>853</td>\n      <td>MI</td>\n    </tr>\n    <tr>\n      <th>60</th>\n      <td>1.5</td>\n      <td>[JULIA, SHEN]</td>\n      <td>950.142857</td>\n      <td>967</td>\n      <td>MI</td>\n    </tr>\n    <tr>\n      <th>61</th>\n      <td>1.5</td>\n      <td>[JEZZEL, FARKAS]</td>\n      <td>1327.285714</td>\n      <td>955</td>\n      <td>ON</td>\n    </tr>\n    <tr>\n      <th>62</th>\n      <td>1.0</td>\n      <td>[ASHWIN, BALAJI]</td>\n      <td>169.428571</td>\n      <td>1530</td>\n      <td>MI</td>\n    </tr>\n    <tr>\n      <th>63</th>\n      <td>1.0</td>\n      <td>[THOMAS, JOSEPH, HOSMER]</td>\n      <td>964.428571</td>\n      <td>1175</td>\n      <td>MI</td>\n    </tr>\n    <tr>\n      <th>64</th>\n      <td>1.0</td>\n      <td>[BEN, LI]</td>\n      <td>1263.000000</td>\n      <td>1163</td>\n      <td>MI</td>\n    </tr>\n  </tbody>\n</table>\n</div>"
     },
     "execution_count": 1052,
     "metadata": {},
     "output_type": "execute_result"
    }
   ],
   "source": [
    "Chess_df"
   ],
   "metadata": {
    "collapsed": false,
    "pycharm": {
     "name": "#%%\n"
    }
   }
  },
  {
   "cell_type": "markdown",
   "source": [
    "#### Save New Table to CSV file."
   ],
   "metadata": {
    "collapsed": false,
    "pycharm": {
     "name": "#%% md\n"
    }
   }
  },
  {
   "cell_type": "code",
   "execution_count": 1054,
   "outputs": [],
   "source": [
    "Chess_df.to_csv('Chess_results', sep=',', encoding='utf-8')"
   ],
   "metadata": {
    "collapsed": false,
    "pycharm": {
     "name": "#%%\n"
    }
   }
  }
 ],
 "metadata": {
  "kernelspec": {
   "display_name": "Python 3",
   "language": "python",
   "name": "python3"
  },
  "language_info": {
   "codemirror_mode": {
    "name": "ipython",
    "version": 2
   },
   "file_extension": ".py",
   "mimetype": "text/x-python",
   "name": "python",
   "nbconvert_exporter": "python",
   "pygments_lexer": "ipython2",
   "version": "2.7.6"
  }
 },
 "nbformat": 4,
 "nbformat_minor": 0
}